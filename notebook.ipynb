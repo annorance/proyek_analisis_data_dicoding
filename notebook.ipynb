{
 "cells": [
  {
   "cell_type": "markdown",
   "metadata": {
    "id": "H9wADwK78DCz"
   },
   "source": [
    "# Proyek Analisis Data: E-Commerce Public Dataset\n",
    "- **Nama:** Nurul Fadillah\n",
    "- **Email:** nurulfadillah1521@gmail.com\n",
    "- **ID Dicoding:** nrifdiih"
   ]
  },
  {
   "cell_type": "markdown",
   "metadata": {
    "id": "eE0raob58DC0"
   },
   "source": [
    "## Menentukan Pertanyaan Bisnis"
   ]
  },
  {
   "cell_type": "markdown",
   "metadata": {
    "id": "GmQeQ5YF8DC0"
   },
   "source": [
    "- Bagaimana tren harga dan tingkat penjualan dari kategori kategori produk Health & Beauty dalam rentang tahun Oktober 2016 – Oktober 2018?\n",
    "- Berdasarkan informasi penjualan di sepanjang tahun 2017, kota apa yang menduduki record penjualan terbanyak dan kategori produk apa yang paling banyak terjual pada waktu tersebut?"
   ]
  },
  {
   "cell_type": "markdown",
   "metadata": {
    "id": "H-z4QGlO8DC1"
   },
   "source": [
    "## Import Semua Packages/Library yang Digunakan"
   ]
  },
  {
   "cell_type": "code",
   "execution_count": 1,
   "metadata": {
    "id": "FVYwaObI8DC1"
   },
   "outputs": [],
   "source": [
    "import pandas as pd\n",
    "import numpy as np \n",
    "import matplotlib.pyplot as plt\n",
    "import seaborn as sns"
   ]
  },
  {
   "cell_type": "markdown",
   "metadata": {
    "id": "h_Sh51Xy8DC1"
   },
   "source": [
    "## Data Wrangling"
   ]
  },
  {
   "cell_type": "markdown",
   "metadata": {
    "id": "sXU2GBYu8DC1"
   },
   "source": [
    "### Gathering Data"
   ]
  },
  {
   "cell_type": "markdown",
   "metadata": {},
   "source": [
    "Pada tahapan ini, saya akan meng-import datasets yang relevan dalam analisis yang akan saya lakukan"
   ]
  },
  {
   "cell_type": "code",
   "execution_count": 2,
   "metadata": {
    "id": "zjCBk1BI8DC1",
    "scrolled": true
   },
   "outputs": [
    {
     "data": {
      "text/html": [
       "<div>\n",
       "<style scoped>\n",
       "    .dataframe tbody tr th:only-of-type {\n",
       "        vertical-align: middle;\n",
       "    }\n",
       "\n",
       "    .dataframe tbody tr th {\n",
       "        vertical-align: top;\n",
       "    }\n",
       "\n",
       "    .dataframe thead th {\n",
       "        text-align: right;\n",
       "    }\n",
       "</style>\n",
       "<table border=\"1\" class=\"dataframe\">\n",
       "  <thead>\n",
       "    <tr style=\"text-align: right;\">\n",
       "      <th></th>\n",
       "      <th>customer_id</th>\n",
       "      <th>customer_unique_id</th>\n",
       "      <th>customer_zip_code_prefix</th>\n",
       "      <th>customer_city</th>\n",
       "      <th>customer_state</th>\n",
       "    </tr>\n",
       "  </thead>\n",
       "  <tbody>\n",
       "    <tr>\n",
       "      <th>0</th>\n",
       "      <td>06b8999e2fba1a1fbc88172c00ba8bc7</td>\n",
       "      <td>861eff4711a542e4b93843c6dd7febb0</td>\n",
       "      <td>14409</td>\n",
       "      <td>franca</td>\n",
       "      <td>SP</td>\n",
       "    </tr>\n",
       "    <tr>\n",
       "      <th>1</th>\n",
       "      <td>18955e83d337fd6b2def6b18a428ac77</td>\n",
       "      <td>290c77bc529b7ac935b93aa66c333dc3</td>\n",
       "      <td>9790</td>\n",
       "      <td>sao bernardo do campo</td>\n",
       "      <td>SP</td>\n",
       "    </tr>\n",
       "    <tr>\n",
       "      <th>2</th>\n",
       "      <td>4e7b3e00288586ebd08712fdd0374a03</td>\n",
       "      <td>060e732b5b29e8181a18229c7b0b2b5e</td>\n",
       "      <td>1151</td>\n",
       "      <td>sao paulo</td>\n",
       "      <td>SP</td>\n",
       "    </tr>\n",
       "    <tr>\n",
       "      <th>3</th>\n",
       "      <td>b2b6027bc5c5109e529d4dc6358b12c3</td>\n",
       "      <td>259dac757896d24d7702b9acbbff3f3c</td>\n",
       "      <td>8775</td>\n",
       "      <td>mogi das cruzes</td>\n",
       "      <td>SP</td>\n",
       "    </tr>\n",
       "    <tr>\n",
       "      <th>4</th>\n",
       "      <td>4f2d8ab171c80ec8364f7c12e35b23ad</td>\n",
       "      <td>345ecd01c38d18a9036ed96c73b8d066</td>\n",
       "      <td>13056</td>\n",
       "      <td>campinas</td>\n",
       "      <td>SP</td>\n",
       "    </tr>\n",
       "  </tbody>\n",
       "</table>\n",
       "</div>"
      ],
      "text/plain": [
       "                        customer_id                customer_unique_id  \\\n",
       "0  06b8999e2fba1a1fbc88172c00ba8bc7  861eff4711a542e4b93843c6dd7febb0   \n",
       "1  18955e83d337fd6b2def6b18a428ac77  290c77bc529b7ac935b93aa66c333dc3   \n",
       "2  4e7b3e00288586ebd08712fdd0374a03  060e732b5b29e8181a18229c7b0b2b5e   \n",
       "3  b2b6027bc5c5109e529d4dc6358b12c3  259dac757896d24d7702b9acbbff3f3c   \n",
       "4  4f2d8ab171c80ec8364f7c12e35b23ad  345ecd01c38d18a9036ed96c73b8d066   \n",
       "\n",
       "   customer_zip_code_prefix          customer_city customer_state  \n",
       "0                     14409                 franca             SP  \n",
       "1                      9790  sao bernardo do campo             SP  \n",
       "2                      1151              sao paulo             SP  \n",
       "3                      8775        mogi das cruzes             SP  \n",
       "4                     13056               campinas             SP  "
      ]
     },
     "execution_count": 2,
     "metadata": {},
     "output_type": "execute_result"
    }
   ],
   "source": [
    "customers_df = pd.read_csv(\"data/customers_dataset.csv\")\n",
    "customers_df.head()"
   ]
  },
  {
   "cell_type": "code",
   "execution_count": 3,
   "metadata": {},
   "outputs": [
    {
     "data": {
      "text/html": [
       "<div>\n",
       "<style scoped>\n",
       "    .dataframe tbody tr th:only-of-type {\n",
       "        vertical-align: middle;\n",
       "    }\n",
       "\n",
       "    .dataframe tbody tr th {\n",
       "        vertical-align: top;\n",
       "    }\n",
       "\n",
       "    .dataframe thead th {\n",
       "        text-align: right;\n",
       "    }\n",
       "</style>\n",
       "<table border=\"1\" class=\"dataframe\">\n",
       "  <thead>\n",
       "    <tr style=\"text-align: right;\">\n",
       "      <th></th>\n",
       "      <th>order_id</th>\n",
       "      <th>customer_id</th>\n",
       "      <th>order_status</th>\n",
       "      <th>order_purchase_timestamp</th>\n",
       "      <th>order_approved_at</th>\n",
       "      <th>order_delivered_carrier_date</th>\n",
       "      <th>order_delivered_customer_date</th>\n",
       "      <th>order_estimated_delivery_date</th>\n",
       "    </tr>\n",
       "  </thead>\n",
       "  <tbody>\n",
       "    <tr>\n",
       "      <th>0</th>\n",
       "      <td>e481f51cbdc54678b7cc49136f2d6af7</td>\n",
       "      <td>9ef432eb6251297304e76186b10a928d</td>\n",
       "      <td>delivered</td>\n",
       "      <td>2017-10-02 10:56:33</td>\n",
       "      <td>2017-10-02 11:07:15</td>\n",
       "      <td>2017-10-04 19:55:00</td>\n",
       "      <td>2017-10-10 21:25:13</td>\n",
       "      <td>2017-10-18 00:00:00</td>\n",
       "    </tr>\n",
       "    <tr>\n",
       "      <th>1</th>\n",
       "      <td>53cdb2fc8bc7dce0b6741e2150273451</td>\n",
       "      <td>b0830fb4747a6c6d20dea0b8c802d7ef</td>\n",
       "      <td>delivered</td>\n",
       "      <td>2018-07-24 20:41:37</td>\n",
       "      <td>2018-07-26 03:24:27</td>\n",
       "      <td>2018-07-26 14:31:00</td>\n",
       "      <td>2018-08-07 15:27:45</td>\n",
       "      <td>2018-08-13 00:00:00</td>\n",
       "    </tr>\n",
       "    <tr>\n",
       "      <th>2</th>\n",
       "      <td>47770eb9100c2d0c44946d9cf07ec65d</td>\n",
       "      <td>41ce2a54c0b03bf3443c3d931a367089</td>\n",
       "      <td>delivered</td>\n",
       "      <td>2018-08-08 08:38:49</td>\n",
       "      <td>2018-08-08 08:55:23</td>\n",
       "      <td>2018-08-08 13:50:00</td>\n",
       "      <td>2018-08-17 18:06:29</td>\n",
       "      <td>2018-09-04 00:00:00</td>\n",
       "    </tr>\n",
       "    <tr>\n",
       "      <th>3</th>\n",
       "      <td>949d5b44dbf5de918fe9c16f97b45f8a</td>\n",
       "      <td>f88197465ea7920adcdbec7375364d82</td>\n",
       "      <td>delivered</td>\n",
       "      <td>2017-11-18 19:28:06</td>\n",
       "      <td>2017-11-18 19:45:59</td>\n",
       "      <td>2017-11-22 13:39:59</td>\n",
       "      <td>2017-12-02 00:28:42</td>\n",
       "      <td>2017-12-15 00:00:00</td>\n",
       "    </tr>\n",
       "    <tr>\n",
       "      <th>4</th>\n",
       "      <td>ad21c59c0840e6cb83a9ceb5573f8159</td>\n",
       "      <td>8ab97904e6daea8866dbdbc4fb7aad2c</td>\n",
       "      <td>delivered</td>\n",
       "      <td>2018-02-13 21:18:39</td>\n",
       "      <td>2018-02-13 22:20:29</td>\n",
       "      <td>2018-02-14 19:46:34</td>\n",
       "      <td>2018-02-16 18:17:02</td>\n",
       "      <td>2018-02-26 00:00:00</td>\n",
       "    </tr>\n",
       "  </tbody>\n",
       "</table>\n",
       "</div>"
      ],
      "text/plain": [
       "                           order_id                       customer_id  \\\n",
       "0  e481f51cbdc54678b7cc49136f2d6af7  9ef432eb6251297304e76186b10a928d   \n",
       "1  53cdb2fc8bc7dce0b6741e2150273451  b0830fb4747a6c6d20dea0b8c802d7ef   \n",
       "2  47770eb9100c2d0c44946d9cf07ec65d  41ce2a54c0b03bf3443c3d931a367089   \n",
       "3  949d5b44dbf5de918fe9c16f97b45f8a  f88197465ea7920adcdbec7375364d82   \n",
       "4  ad21c59c0840e6cb83a9ceb5573f8159  8ab97904e6daea8866dbdbc4fb7aad2c   \n",
       "\n",
       "  order_status order_purchase_timestamp    order_approved_at  \\\n",
       "0    delivered      2017-10-02 10:56:33  2017-10-02 11:07:15   \n",
       "1    delivered      2018-07-24 20:41:37  2018-07-26 03:24:27   \n",
       "2    delivered      2018-08-08 08:38:49  2018-08-08 08:55:23   \n",
       "3    delivered      2017-11-18 19:28:06  2017-11-18 19:45:59   \n",
       "4    delivered      2018-02-13 21:18:39  2018-02-13 22:20:29   \n",
       "\n",
       "  order_delivered_carrier_date order_delivered_customer_date  \\\n",
       "0          2017-10-04 19:55:00           2017-10-10 21:25:13   \n",
       "1          2018-07-26 14:31:00           2018-08-07 15:27:45   \n",
       "2          2018-08-08 13:50:00           2018-08-17 18:06:29   \n",
       "3          2017-11-22 13:39:59           2017-12-02 00:28:42   \n",
       "4          2018-02-14 19:46:34           2018-02-16 18:17:02   \n",
       "\n",
       "  order_estimated_delivery_date  \n",
       "0           2017-10-18 00:00:00  \n",
       "1           2018-08-13 00:00:00  \n",
       "2           2018-09-04 00:00:00  \n",
       "3           2017-12-15 00:00:00  \n",
       "4           2018-02-26 00:00:00  "
      ]
     },
     "execution_count": 3,
     "metadata": {},
     "output_type": "execute_result"
    }
   ],
   "source": [
    "orders_df = pd.read_csv(\"data/orders_dataset.csv\")\n",
    "orders_df.head()"
   ]
  },
  {
   "cell_type": "code",
   "execution_count": 4,
   "metadata": {},
   "outputs": [
    {
     "data": {
      "text/html": [
       "<div>\n",
       "<style scoped>\n",
       "    .dataframe tbody tr th:only-of-type {\n",
       "        vertical-align: middle;\n",
       "    }\n",
       "\n",
       "    .dataframe tbody tr th {\n",
       "        vertical-align: top;\n",
       "    }\n",
       "\n",
       "    .dataframe thead th {\n",
       "        text-align: right;\n",
       "    }\n",
       "</style>\n",
       "<table border=\"1\" class=\"dataframe\">\n",
       "  <thead>\n",
       "    <tr style=\"text-align: right;\">\n",
       "      <th></th>\n",
       "      <th>order_id</th>\n",
       "      <th>order_item_id</th>\n",
       "      <th>product_id</th>\n",
       "      <th>seller_id</th>\n",
       "      <th>shipping_limit_date</th>\n",
       "      <th>price</th>\n",
       "      <th>freight_value</th>\n",
       "    </tr>\n",
       "  </thead>\n",
       "  <tbody>\n",
       "    <tr>\n",
       "      <th>0</th>\n",
       "      <td>00010242fe8c5a6d1ba2dd792cb16214</td>\n",
       "      <td>1</td>\n",
       "      <td>4244733e06e7ecb4970a6e2683c13e61</td>\n",
       "      <td>48436dade18ac8b2bce089ec2a041202</td>\n",
       "      <td>2017-09-19 09:45:35</td>\n",
       "      <td>58.90</td>\n",
       "      <td>13.29</td>\n",
       "    </tr>\n",
       "    <tr>\n",
       "      <th>1</th>\n",
       "      <td>00018f77f2f0320c557190d7a144bdd3</td>\n",
       "      <td>1</td>\n",
       "      <td>e5f2d52b802189ee658865ca93d83a8f</td>\n",
       "      <td>dd7ddc04e1b6c2c614352b383efe2d36</td>\n",
       "      <td>2017-05-03 11:05:13</td>\n",
       "      <td>239.90</td>\n",
       "      <td>19.93</td>\n",
       "    </tr>\n",
       "    <tr>\n",
       "      <th>2</th>\n",
       "      <td>000229ec398224ef6ca0657da4fc703e</td>\n",
       "      <td>1</td>\n",
       "      <td>c777355d18b72b67abbeef9df44fd0fd</td>\n",
       "      <td>5b51032eddd242adc84c38acab88f23d</td>\n",
       "      <td>2018-01-18 14:48:30</td>\n",
       "      <td>199.00</td>\n",
       "      <td>17.87</td>\n",
       "    </tr>\n",
       "    <tr>\n",
       "      <th>3</th>\n",
       "      <td>00024acbcdf0a6daa1e931b038114c75</td>\n",
       "      <td>1</td>\n",
       "      <td>7634da152a4610f1595efa32f14722fc</td>\n",
       "      <td>9d7a1d34a5052409006425275ba1c2b4</td>\n",
       "      <td>2018-08-15 10:10:18</td>\n",
       "      <td>12.99</td>\n",
       "      <td>12.79</td>\n",
       "    </tr>\n",
       "    <tr>\n",
       "      <th>4</th>\n",
       "      <td>00042b26cf59d7ce69dfabb4e55b4fd9</td>\n",
       "      <td>1</td>\n",
       "      <td>ac6c3623068f30de03045865e4e10089</td>\n",
       "      <td>df560393f3a51e74553ab94004ba5c87</td>\n",
       "      <td>2017-02-13 13:57:51</td>\n",
       "      <td>199.90</td>\n",
       "      <td>18.14</td>\n",
       "    </tr>\n",
       "  </tbody>\n",
       "</table>\n",
       "</div>"
      ],
      "text/plain": [
       "                           order_id  order_item_id  \\\n",
       "0  00010242fe8c5a6d1ba2dd792cb16214              1   \n",
       "1  00018f77f2f0320c557190d7a144bdd3              1   \n",
       "2  000229ec398224ef6ca0657da4fc703e              1   \n",
       "3  00024acbcdf0a6daa1e931b038114c75              1   \n",
       "4  00042b26cf59d7ce69dfabb4e55b4fd9              1   \n",
       "\n",
       "                         product_id                         seller_id  \\\n",
       "0  4244733e06e7ecb4970a6e2683c13e61  48436dade18ac8b2bce089ec2a041202   \n",
       "1  e5f2d52b802189ee658865ca93d83a8f  dd7ddc04e1b6c2c614352b383efe2d36   \n",
       "2  c777355d18b72b67abbeef9df44fd0fd  5b51032eddd242adc84c38acab88f23d   \n",
       "3  7634da152a4610f1595efa32f14722fc  9d7a1d34a5052409006425275ba1c2b4   \n",
       "4  ac6c3623068f30de03045865e4e10089  df560393f3a51e74553ab94004ba5c87   \n",
       "\n",
       "   shipping_limit_date   price  freight_value  \n",
       "0  2017-09-19 09:45:35   58.90          13.29  \n",
       "1  2017-05-03 11:05:13  239.90          19.93  \n",
       "2  2018-01-18 14:48:30  199.00          17.87  \n",
       "3  2018-08-15 10:10:18   12.99          12.79  \n",
       "4  2017-02-13 13:57:51  199.90          18.14  "
      ]
     },
     "execution_count": 4,
     "metadata": {},
     "output_type": "execute_result"
    }
   ],
   "source": [
    "order_items_df = pd.read_csv(\"data/order_items_dataset.csv\")\n",
    "order_items_df.head()"
   ]
  },
  {
   "cell_type": "code",
   "execution_count": 5,
   "metadata": {},
   "outputs": [
    {
     "data": {
      "text/html": [
       "<div>\n",
       "<style scoped>\n",
       "    .dataframe tbody tr th:only-of-type {\n",
       "        vertical-align: middle;\n",
       "    }\n",
       "\n",
       "    .dataframe tbody tr th {\n",
       "        vertical-align: top;\n",
       "    }\n",
       "\n",
       "    .dataframe thead th {\n",
       "        text-align: right;\n",
       "    }\n",
       "</style>\n",
       "<table border=\"1\" class=\"dataframe\">\n",
       "  <thead>\n",
       "    <tr style=\"text-align: right;\">\n",
       "      <th></th>\n",
       "      <th>product_id</th>\n",
       "      <th>product_category_name</th>\n",
       "      <th>product_name_lenght</th>\n",
       "      <th>product_description_lenght</th>\n",
       "      <th>product_photos_qty</th>\n",
       "      <th>product_weight_g</th>\n",
       "      <th>product_length_cm</th>\n",
       "      <th>product_height_cm</th>\n",
       "      <th>product_width_cm</th>\n",
       "    </tr>\n",
       "  </thead>\n",
       "  <tbody>\n",
       "    <tr>\n",
       "      <th>0</th>\n",
       "      <td>1e9e8ef04dbcff4541ed26657ea517e5</td>\n",
       "      <td>perfumaria</td>\n",
       "      <td>40.0</td>\n",
       "      <td>287.0</td>\n",
       "      <td>1.0</td>\n",
       "      <td>225.0</td>\n",
       "      <td>16.0</td>\n",
       "      <td>10.0</td>\n",
       "      <td>14.0</td>\n",
       "    </tr>\n",
       "    <tr>\n",
       "      <th>1</th>\n",
       "      <td>3aa071139cb16b67ca9e5dea641aaa2f</td>\n",
       "      <td>artes</td>\n",
       "      <td>44.0</td>\n",
       "      <td>276.0</td>\n",
       "      <td>1.0</td>\n",
       "      <td>1000.0</td>\n",
       "      <td>30.0</td>\n",
       "      <td>18.0</td>\n",
       "      <td>20.0</td>\n",
       "    </tr>\n",
       "    <tr>\n",
       "      <th>2</th>\n",
       "      <td>96bd76ec8810374ed1b65e291975717f</td>\n",
       "      <td>esporte_lazer</td>\n",
       "      <td>46.0</td>\n",
       "      <td>250.0</td>\n",
       "      <td>1.0</td>\n",
       "      <td>154.0</td>\n",
       "      <td>18.0</td>\n",
       "      <td>9.0</td>\n",
       "      <td>15.0</td>\n",
       "    </tr>\n",
       "    <tr>\n",
       "      <th>3</th>\n",
       "      <td>cef67bcfe19066a932b7673e239eb23d</td>\n",
       "      <td>bebes</td>\n",
       "      <td>27.0</td>\n",
       "      <td>261.0</td>\n",
       "      <td>1.0</td>\n",
       "      <td>371.0</td>\n",
       "      <td>26.0</td>\n",
       "      <td>4.0</td>\n",
       "      <td>26.0</td>\n",
       "    </tr>\n",
       "    <tr>\n",
       "      <th>4</th>\n",
       "      <td>9dc1a7de274444849c219cff195d0b71</td>\n",
       "      <td>utilidades_domesticas</td>\n",
       "      <td>37.0</td>\n",
       "      <td>402.0</td>\n",
       "      <td>4.0</td>\n",
       "      <td>625.0</td>\n",
       "      <td>20.0</td>\n",
       "      <td>17.0</td>\n",
       "      <td>13.0</td>\n",
       "    </tr>\n",
       "  </tbody>\n",
       "</table>\n",
       "</div>"
      ],
      "text/plain": [
       "                         product_id  product_category_name  \\\n",
       "0  1e9e8ef04dbcff4541ed26657ea517e5             perfumaria   \n",
       "1  3aa071139cb16b67ca9e5dea641aaa2f                  artes   \n",
       "2  96bd76ec8810374ed1b65e291975717f          esporte_lazer   \n",
       "3  cef67bcfe19066a932b7673e239eb23d                  bebes   \n",
       "4  9dc1a7de274444849c219cff195d0b71  utilidades_domesticas   \n",
       "\n",
       "   product_name_lenght  product_description_lenght  product_photos_qty  \\\n",
       "0                 40.0                       287.0                 1.0   \n",
       "1                 44.0                       276.0                 1.0   \n",
       "2                 46.0                       250.0                 1.0   \n",
       "3                 27.0                       261.0                 1.0   \n",
       "4                 37.0                       402.0                 4.0   \n",
       "\n",
       "   product_weight_g  product_length_cm  product_height_cm  product_width_cm  \n",
       "0             225.0               16.0               10.0              14.0  \n",
       "1            1000.0               30.0               18.0              20.0  \n",
       "2             154.0               18.0                9.0              15.0  \n",
       "3             371.0               26.0                4.0              26.0  \n",
       "4             625.0               20.0               17.0              13.0  "
      ]
     },
     "execution_count": 5,
     "metadata": {},
     "output_type": "execute_result"
    }
   ],
   "source": [
    "products_df = pd.read_csv(\"data/products_dataset.csv\")\n",
    "products_df.head()"
   ]
  },
  {
   "cell_type": "code",
   "execution_count": 6,
   "metadata": {},
   "outputs": [
    {
     "data": {
      "text/html": [
       "<div>\n",
       "<style scoped>\n",
       "    .dataframe tbody tr th:only-of-type {\n",
       "        vertical-align: middle;\n",
       "    }\n",
       "\n",
       "    .dataframe tbody tr th {\n",
       "        vertical-align: top;\n",
       "    }\n",
       "\n",
       "    .dataframe thead th {\n",
       "        text-align: right;\n",
       "    }\n",
       "</style>\n",
       "<table border=\"1\" class=\"dataframe\">\n",
       "  <thead>\n",
       "    <tr style=\"text-align: right;\">\n",
       "      <th></th>\n",
       "      <th>product_category_name</th>\n",
       "      <th>product_category_name_english</th>\n",
       "    </tr>\n",
       "  </thead>\n",
       "  <tbody>\n",
       "    <tr>\n",
       "      <th>0</th>\n",
       "      <td>beleza_saude</td>\n",
       "      <td>health_beauty</td>\n",
       "    </tr>\n",
       "    <tr>\n",
       "      <th>1</th>\n",
       "      <td>informatica_acessorios</td>\n",
       "      <td>computers_accessories</td>\n",
       "    </tr>\n",
       "    <tr>\n",
       "      <th>2</th>\n",
       "      <td>automotivo</td>\n",
       "      <td>auto</td>\n",
       "    </tr>\n",
       "    <tr>\n",
       "      <th>3</th>\n",
       "      <td>cama_mesa_banho</td>\n",
       "      <td>bed_bath_table</td>\n",
       "    </tr>\n",
       "    <tr>\n",
       "      <th>4</th>\n",
       "      <td>moveis_decoracao</td>\n",
       "      <td>furniture_decor</td>\n",
       "    </tr>\n",
       "  </tbody>\n",
       "</table>\n",
       "</div>"
      ],
      "text/plain": [
       "    product_category_name product_category_name_english\n",
       "0            beleza_saude                 health_beauty\n",
       "1  informatica_acessorios         computers_accessories\n",
       "2              automotivo                          auto\n",
       "3         cama_mesa_banho                bed_bath_table\n",
       "4        moveis_decoracao               furniture_decor"
      ]
     },
     "execution_count": 6,
     "metadata": {},
     "output_type": "execute_result"
    }
   ],
   "source": [
    "product_category_name_translation_df = pd.read_csv(\"data/product_category_name_translation.csv\")\n",
    "product_category_name_translation_df.head()"
   ]
  },
  {
   "cell_type": "markdown",
   "metadata": {
    "id": "FHSiqaZp8DC1",
    "jp-MarkdownHeadingCollapsed": true
   },
   "source": [
    "### Assessing Data"
   ]
  },
  {
   "cell_type": "markdown",
   "metadata": {},
   "source": [
    "#### Menilai tabel \"customers_df\""
   ]
  },
  {
   "cell_type": "code",
   "execution_count": 7,
   "metadata": {
    "id": "ax-3tEjc9Cj1"
   },
   "outputs": [
    {
     "name": "stdout",
     "output_type": "stream",
     "text": [
      "<class 'pandas.core.frame.DataFrame'>\n",
      "RangeIndex: 99441 entries, 0 to 99440\n",
      "Data columns (total 5 columns):\n",
      " #   Column                    Non-Null Count  Dtype \n",
      "---  ------                    --------------  ----- \n",
      " 0   customer_id               99441 non-null  object\n",
      " 1   customer_unique_id        99441 non-null  object\n",
      " 2   customer_zip_code_prefix  99441 non-null  int64 \n",
      " 3   customer_city             99441 non-null  object\n",
      " 4   customer_state            99441 non-null  object\n",
      "dtypes: int64(1), object(4)\n",
      "memory usage: 3.8+ MB\n",
      "Jumlah duplikasi:  0\n"
     ]
    },
    {
     "data": {
      "text/plain": [
       "customer_id                 99441\n",
       "customer_unique_id          96096\n",
       "customer_zip_code_prefix    14994\n",
       "customer_city                4119\n",
       "customer_state                 27\n",
       "dtype: int64"
      ]
     },
     "execution_count": 7,
     "metadata": {},
     "output_type": "execute_result"
    }
   ],
   "source": [
    "customers_df.info()\n",
    "customers_df.isna().sum() \n",
    "print(\"Jumlah duplikasi: \", customers_df.duplicated().sum())\n",
    "customers_df.describe(include=\"all\")\n",
    "customers_df.nunique()"
   ]
  },
  {
   "cell_type": "markdown",
   "metadata": {},
   "source": [
    "**Insight:**\n",
    "- Tidak ada missing value dari setiap kolom\n",
    "- Tidak ada duplicates\n",
    "- Dari hasil penggunaan metode .describe(), tidak ada keanehan. hanya saja, program menghitung parameter statistik dari kolom \"code_prefix\" yang mana seharusnya tidak perlu karena code_prefix\n",
    "- Tipe data customer_zip_code_prefix seharusnya object bukan integer karena tidak diperuntukkan untuk operasi matematika"
   ]
  },
  {
   "cell_type": "markdown",
   "metadata": {},
   "source": [
    "#### Menilai tabel \"orders_df\""
   ]
  },
  {
   "cell_type": "code",
   "execution_count": 8,
   "metadata": {},
   "outputs": [
    {
     "name": "stdout",
     "output_type": "stream",
     "text": [
      "<class 'pandas.core.frame.DataFrame'>\n",
      "RangeIndex: 99441 entries, 0 to 99440\n",
      "Data columns (total 8 columns):\n",
      " #   Column                         Non-Null Count  Dtype \n",
      "---  ------                         --------------  ----- \n",
      " 0   order_id                       99441 non-null  object\n",
      " 1   customer_id                    99441 non-null  object\n",
      " 2   order_status                   99441 non-null  object\n",
      " 3   order_purchase_timestamp       99441 non-null  object\n",
      " 4   order_approved_at              99281 non-null  object\n",
      " 5   order_delivered_carrier_date   97658 non-null  object\n",
      " 6   order_delivered_customer_date  96476 non-null  object\n",
      " 7   order_estimated_delivery_date  99441 non-null  object\n",
      "dtypes: object(8)\n",
      "memory usage: 6.1+ MB\n",
      "Jumlah duplikasi:  0\n"
     ]
    },
    {
     "data": {
      "text/plain": [
       "order_id                         99441\n",
       "customer_id                      99441\n",
       "order_status                         8\n",
       "order_purchase_timestamp         98875\n",
       "order_approved_at                90733\n",
       "order_delivered_carrier_date     81018\n",
       "order_delivered_customer_date    95664\n",
       "order_estimated_delivery_date      459\n",
       "dtype: int64"
      ]
     },
     "execution_count": 8,
     "metadata": {},
     "output_type": "execute_result"
    }
   ],
   "source": [
    "orders_df.info()\n",
    "orders_df.isna().sum() \n",
    "print(\"Jumlah duplikasi: \", orders_df.duplicated().sum())\n",
    "orders_df.describe(include=\"all\")\n",
    "orders_df.nunique()"
   ]
  },
  {
   "cell_type": "markdown",
   "metadata": {},
   "source": [
    "**Insight:**\n",
    "- Beberapa kolom yang memiliki missing value, antara lain: \"order_approved_at\" sebanyak 160, \"order_delivered_carrier_date\" sebanyak 1783, dan \"order_delivered_customer_date\" sebanyak 2965. Namun, karena ketiga variabel ini tidak akan saya libatkan dalam analisis yang saya lakukan, maka saya akan melakukan dropping pada variabel tersebut\n",
    "- Tidak ditemukan duplicates pada data\n",
    "- Tipe data \"order_delivered_customer_date\" masih salah. Seharusnya adalah \"datetime\", bukan \"object\""
   ]
  },
  {
   "cell_type": "markdown",
   "metadata": {},
   "source": [
    "#### Menilai tabel \"products_df\""
   ]
  },
  {
   "cell_type": "code",
   "execution_count": 9,
   "metadata": {},
   "outputs": [
    {
     "name": "stdout",
     "output_type": "stream",
     "text": [
      "<class 'pandas.core.frame.DataFrame'>\n",
      "RangeIndex: 32951 entries, 0 to 32950\n",
      "Data columns (total 9 columns):\n",
      " #   Column                      Non-Null Count  Dtype  \n",
      "---  ------                      --------------  -----  \n",
      " 0   product_id                  32951 non-null  object \n",
      " 1   product_category_name       32341 non-null  object \n",
      " 2   product_name_lenght         32341 non-null  float64\n",
      " 3   product_description_lenght  32341 non-null  float64\n",
      " 4   product_photos_qty          32341 non-null  float64\n",
      " 5   product_weight_g            32949 non-null  float64\n",
      " 6   product_length_cm           32949 non-null  float64\n",
      " 7   product_height_cm           32949 non-null  float64\n",
      " 8   product_width_cm            32949 non-null  float64\n",
      "dtypes: float64(7), object(2)\n",
      "memory usage: 2.3+ MB\n",
      "Jumlah duplikasi:  0\n"
     ]
    },
    {
     "data": {
      "text/plain": [
       "product_id                    32951\n",
       "product_category_name            73\n",
       "product_name_lenght              66\n",
       "product_description_lenght     2960\n",
       "product_photos_qty               19\n",
       "product_weight_g               2204\n",
       "product_length_cm                99\n",
       "product_height_cm               102\n",
       "product_width_cm                 95\n",
       "dtype: int64"
      ]
     },
     "execution_count": 9,
     "metadata": {},
     "output_type": "execute_result"
    }
   ],
   "source": [
    "products_df.info()\n",
    "products_df.isna().sum() \n",
    "print(\"Jumlah duplikasi: \", products_df.duplicated().sum())\n",
    "products_df.describe(include=\"all\")\n",
    "products_df.nunique()"
   ]
  },
  {
   "cell_type": "markdown",
   "metadata": {},
   "source": [
    "**Insight:**\n",
    "- Terdapat duplicates pada kolom \"product_category_name\", \"product_name_length\", \"pruduct_description_length\", \"product_weight_g\", \"product_length_cm\", \"product_height_cm\", \"product_width_cm\", dan \"prudct_photos_qty\". Tapi, duplikat pada kolom ini tidak perlu dihapus karena sangat memungkinkan suatu produk memiliki length nama yang sama, description length yang sama, jumlah foto yang di-display sama, memiliki berat, panjang, lebar, dan tinggi yang sama, dan berada di kategori yang sama\n",
    "- Terdapat missing value pada product_category_name, product_name_length, product_description_lenght, product_photos_qty, product_weight_g, product_length_cm, product_height_cm, dan product_widht_cm. Namun, karena proses analisis yang akan saya lakukan tidak melibatkan variabel tersebut, maka saya akan membiarkan variabel-variabel tersebut"
   ]
  },
  {
   "cell_type": "markdown",
   "metadata": {},
   "source": [
    "#### Menilai tabel \"order_items_df\""
   ]
  },
  {
   "cell_type": "code",
   "execution_count": 10,
   "metadata": {},
   "outputs": [
    {
     "name": "stdout",
     "output_type": "stream",
     "text": [
      "<class 'pandas.core.frame.DataFrame'>\n",
      "RangeIndex: 112650 entries, 0 to 112649\n",
      "Data columns (total 7 columns):\n",
      " #   Column               Non-Null Count   Dtype  \n",
      "---  ------               --------------   -----  \n",
      " 0   order_id             112650 non-null  object \n",
      " 1   order_item_id        112650 non-null  int64  \n",
      " 2   product_id           112650 non-null  object \n",
      " 3   seller_id            112650 non-null  object \n",
      " 4   shipping_limit_date  112650 non-null  object \n",
      " 5   price                112650 non-null  float64\n",
      " 6   freight_value        112650 non-null  float64\n",
      "dtypes: float64(2), int64(1), object(4)\n",
      "memory usage: 6.0+ MB\n",
      "Jumlah duplikasi:  0\n"
     ]
    },
    {
     "data": {
      "text/plain": [
       "order_id               98666\n",
       "order_item_id             21\n",
       "product_id             32951\n",
       "seller_id               3095\n",
       "shipping_limit_date    93318\n",
       "price                   5968\n",
       "freight_value           6999\n",
       "dtype: int64"
      ]
     },
     "execution_count": 10,
     "metadata": {},
     "output_type": "execute_result"
    }
   ],
   "source": [
    "order_items_df.info()\n",
    "order_items_df.isna().sum() \n",
    "print(\"Jumlah duplikasi: \", order_items_df.duplicated().sum())\n",
    "order_items_df.describe(include=\"all\")\n",
    "order_items_df.nunique()"
   ]
  },
  {
   "cell_type": "markdown",
   "metadata": {},
   "source": [
    "**Insight:**\n",
    "- Tidak ada missing value\n",
    "- Tidak ada duplicates\n",
    "- Tipe data shipping_limit_date seharusnya bukan object tetapi datetime"
   ]
  },
  {
   "cell_type": "markdown",
   "metadata": {
    "id": "EhN5R4hr8DC1",
    "jp-MarkdownHeadingCollapsed": true
   },
   "source": [
    "### Cleaning Data"
   ]
  },
  {
   "cell_type": "markdown",
   "metadata": {
    "id": "jVnYpprE9Evz"
   },
   "source": [
    "#### Membersihkan tabel customers_df"
   ]
  },
  {
   "cell_type": "markdown",
   "metadata": {},
   "source": [
    "##### Saya akan mengganti tipe data customer_zip_code_prefix dari integer ke object"
   ]
  },
  {
   "cell_type": "code",
   "execution_count": 11,
   "metadata": {},
   "outputs": [
    {
     "name": "stdout",
     "output_type": "stream",
     "text": [
      "<class 'pandas.core.frame.DataFrame'>\n",
      "RangeIndex: 99441 entries, 0 to 99440\n",
      "Data columns (total 5 columns):\n",
      " #   Column                    Non-Null Count  Dtype \n",
      "---  ------                    --------------  ----- \n",
      " 0   customer_id               99441 non-null  object\n",
      " 1   customer_unique_id        99441 non-null  object\n",
      " 2   customer_zip_code_prefix  99441 non-null  object\n",
      " 3   customer_city             99441 non-null  object\n",
      " 4   customer_state            99441 non-null  object\n",
      "dtypes: object(5)\n",
      "memory usage: 3.8+ MB\n"
     ]
    }
   ],
   "source": [
    "customers_df['customer_zip_code_prefix'] = customers_df['customer_zip_code_prefix'].astype('object')\n",
    "\n",
    "customers_df.info()"
   ]
  },
  {
   "cell_type": "markdown",
   "metadata": {},
   "source": [
    "Tipe data kolom \"customer_zip_code_prefix\" berhasil diubah"
   ]
  },
  {
   "cell_type": "markdown",
   "metadata": {},
   "source": [
    "#### Membersihkan tabel orders_df"
   ]
  },
  {
   "cell_type": "markdown",
   "metadata": {},
   "source": [
    "##### Drop kolom-kolom yang tidak terpakai"
   ]
  },
  {
   "cell_type": "markdown",
   "metadata": {},
   "source": [
    "Pada analisis ini, saya tidak akan melibatkan variabel \"order_status\", \"order_purchase_timestamp\", \"order_approved_at\", \"order_delivered_carrier_date\", dan \"order_estimated_delivery_date\". Maka dari itu, saya akan melakukan dropping pada kelima variabel tersebut\n",
    "\n",
    "Hal ini karena saya hanya akan menggunakan variabel \"order_delivered_customer_date\", yakni variabel yang menyimpan data tanggal produk diterima oleh pembeli, sebagai indikator bahwa pelanggan benar-benar membeli produk (bukan hanya purchase namun di-cancel, etc yang artinya produk tidak betul-betul dibeli oleh user)"
   ]
  },
  {
   "cell_type": "code",
   "execution_count": 12,
   "metadata": {},
   "outputs": [],
   "source": [
    "orders_df = orders_df.drop(columns=['order_status', 'order_purchase_timestamp', 'order_approved_at', 'order_delivered_carrier_date', 'order_estimated_delivery_date'])"
   ]
  },
  {
   "cell_type": "code",
   "execution_count": 13,
   "metadata": {},
   "outputs": [
    {
     "data": {
      "text/html": [
       "<div>\n",
       "<style scoped>\n",
       "    .dataframe tbody tr th:only-of-type {\n",
       "        vertical-align: middle;\n",
       "    }\n",
       "\n",
       "    .dataframe tbody tr th {\n",
       "        vertical-align: top;\n",
       "    }\n",
       "\n",
       "    .dataframe thead th {\n",
       "        text-align: right;\n",
       "    }\n",
       "</style>\n",
       "<table border=\"1\" class=\"dataframe\">\n",
       "  <thead>\n",
       "    <tr style=\"text-align: right;\">\n",
       "      <th></th>\n",
       "      <th>order_id</th>\n",
       "      <th>customer_id</th>\n",
       "      <th>order_delivered_customer_date</th>\n",
       "    </tr>\n",
       "  </thead>\n",
       "  <tbody>\n",
       "    <tr>\n",
       "      <th>0</th>\n",
       "      <td>e481f51cbdc54678b7cc49136f2d6af7</td>\n",
       "      <td>9ef432eb6251297304e76186b10a928d</td>\n",
       "      <td>2017-10-10 21:25:13</td>\n",
       "    </tr>\n",
       "    <tr>\n",
       "      <th>1</th>\n",
       "      <td>53cdb2fc8bc7dce0b6741e2150273451</td>\n",
       "      <td>b0830fb4747a6c6d20dea0b8c802d7ef</td>\n",
       "      <td>2018-08-07 15:27:45</td>\n",
       "    </tr>\n",
       "    <tr>\n",
       "      <th>2</th>\n",
       "      <td>47770eb9100c2d0c44946d9cf07ec65d</td>\n",
       "      <td>41ce2a54c0b03bf3443c3d931a367089</td>\n",
       "      <td>2018-08-17 18:06:29</td>\n",
       "    </tr>\n",
       "    <tr>\n",
       "      <th>3</th>\n",
       "      <td>949d5b44dbf5de918fe9c16f97b45f8a</td>\n",
       "      <td>f88197465ea7920adcdbec7375364d82</td>\n",
       "      <td>2017-12-02 00:28:42</td>\n",
       "    </tr>\n",
       "    <tr>\n",
       "      <th>4</th>\n",
       "      <td>ad21c59c0840e6cb83a9ceb5573f8159</td>\n",
       "      <td>8ab97904e6daea8866dbdbc4fb7aad2c</td>\n",
       "      <td>2018-02-16 18:17:02</td>\n",
       "    </tr>\n",
       "  </tbody>\n",
       "</table>\n",
       "</div>"
      ],
      "text/plain": [
       "                           order_id                       customer_id  \\\n",
       "0  e481f51cbdc54678b7cc49136f2d6af7  9ef432eb6251297304e76186b10a928d   \n",
       "1  53cdb2fc8bc7dce0b6741e2150273451  b0830fb4747a6c6d20dea0b8c802d7ef   \n",
       "2  47770eb9100c2d0c44946d9cf07ec65d  41ce2a54c0b03bf3443c3d931a367089   \n",
       "3  949d5b44dbf5de918fe9c16f97b45f8a  f88197465ea7920adcdbec7375364d82   \n",
       "4  ad21c59c0840e6cb83a9ceb5573f8159  8ab97904e6daea8866dbdbc4fb7aad2c   \n",
       "\n",
       "  order_delivered_customer_date  \n",
       "0           2017-10-10 21:25:13  \n",
       "1           2018-08-07 15:27:45  \n",
       "2           2018-08-17 18:06:29  \n",
       "3           2017-12-02 00:28:42  \n",
       "4           2018-02-16 18:17:02  "
      ]
     },
     "execution_count": 13,
     "metadata": {},
     "output_type": "execute_result"
    }
   ],
   "source": [
    "orders_df.head()"
   ]
  },
  {
   "cell_type": "markdown",
   "metadata": {},
   "source": [
    "Kelima kolom berhasil dihapus dan orders_df sekarang hanya terdiri dari variabel \"order_id\", \"customer_id\", dan \"order_delivered_customer_date\""
   ]
  },
  {
   "cell_type": "markdown",
   "metadata": {},
   "source": [
    "##### Ubah tipe data order_delivered_customer_date menjadi datetime"
   ]
  },
  {
   "cell_type": "markdown",
   "metadata": {},
   "source": [
    "Selanjutnya, saya akan mengubah tipe data order_delivered_customer_date menjadi tipe data yang sesuai, yakni tipe data datetime"
   ]
  },
  {
   "cell_type": "code",
   "execution_count": 14,
   "metadata": {},
   "outputs": [
    {
     "name": "stdout",
     "output_type": "stream",
     "text": [
      "<class 'pandas.core.frame.DataFrame'>\n",
      "RangeIndex: 99441 entries, 0 to 99440\n",
      "Data columns (total 3 columns):\n",
      " #   Column                         Non-Null Count  Dtype         \n",
      "---  ------                         --------------  -----         \n",
      " 0   order_id                       99441 non-null  object        \n",
      " 1   customer_id                    99441 non-null  object        \n",
      " 2   order_delivered_customer_date  96476 non-null  datetime64[ns]\n",
      "dtypes: datetime64[ns](1), object(2)\n",
      "memory usage: 2.3+ MB\n"
     ]
    }
   ],
   "source": [
    "orders_df['order_delivered_customer_date'] = pd.to_datetime(orders_df['order_delivered_customer_date'])\n",
    "orders_df.info()"
   ]
  },
  {
   "cell_type": "markdown",
   "metadata": {},
   "source": [
    "Tipe data berhasil diubah"
   ]
  },
  {
   "cell_type": "markdown",
   "metadata": {
    "id": "jVnYpprE9Evz"
   },
   "source": [
    "#### Membersihkan tabel products_df"
   ]
  },
  {
   "cell_type": "markdown",
   "metadata": {},
   "source": [
    "##### Drop produk yang tidak memiliki data kategori"
   ]
  },
  {
   "cell_type": "markdown",
   "metadata": {},
   "source": [
    "Saya akan menghapus (drop) produk yang data kategorinya kosong. Keputusan ini diambil karena jumlah data yang mengandung missing value sangat insignifikan terhadpa total jumlah seluruh data, yakni hanya 610. Jadi, tidak masalah jika langsung di drop dalam rangka mengefisiensikan waktu"
   ]
  },
  {
   "cell_type": "code",
   "execution_count": 15,
   "metadata": {},
   "outputs": [],
   "source": [
    "products_df.dropna(inplace=True)"
   ]
  },
  {
   "cell_type": "markdown",
   "metadata": {
    "id": "jVnYpprE9Evz"
   },
   "source": [
    "#### Membersihkan tabel order_items_df"
   ]
  },
  {
   "cell_type": "markdown",
   "metadata": {},
   "source": [
    "##### Ubah tipe data kolom \"shipping_limit_date\" menjadi tipe data datetime"
   ]
  },
  {
   "cell_type": "markdown",
   "metadata": {},
   "source": [
    "Pada tahapan ini, saya akan mengubah tipe data kolom \"shipping_limit_date\" menjadi tipe data datetime karena kolom ini menyimpan informasi tanggal"
   ]
  },
  {
   "cell_type": "code",
   "execution_count": 16,
   "metadata": {},
   "outputs": [
    {
     "name": "stdout",
     "output_type": "stream",
     "text": [
      "<class 'pandas.core.frame.DataFrame'>\n",
      "RangeIndex: 112650 entries, 0 to 112649\n",
      "Data columns (total 7 columns):\n",
      " #   Column               Non-Null Count   Dtype         \n",
      "---  ------               --------------   -----         \n",
      " 0   order_id             112650 non-null  object        \n",
      " 1   order_item_id        112650 non-null  int64         \n",
      " 2   product_id           112650 non-null  object        \n",
      " 3   seller_id            112650 non-null  object        \n",
      " 4   shipping_limit_date  112650 non-null  datetime64[ns]\n",
      " 5   price                112650 non-null  float64       \n",
      " 6   freight_value        112650 non-null  float64       \n",
      "dtypes: datetime64[ns](1), float64(2), int64(1), object(3)\n",
      "memory usage: 6.0+ MB\n"
     ]
    }
   ],
   "source": [
    "#mengubah tipe data ke datetime\n",
    "order_items_df['shipping_limit_date'] = pd.to_datetime(order_items_df['shipping_limit_date'])\n",
    "order_items_df.info()"
   ]
  },
  {
   "cell_type": "markdown",
   "metadata": {},
   "source": [
    "Tipe data kolom \"shipping_limit_date\" berhasil diubah"
   ]
  },
  {
   "cell_type": "markdown",
   "metadata": {
    "id": "gp-Y6wU38DC1"
   },
   "source": [
    "## Exploratory Data Analysis (EDA)"
   ]
  },
  {
   "cell_type": "markdown",
   "metadata": {},
   "source": [
    "**Pertama, saya akan fokus mengeksplorasi data dalam rangka menjawab pertanyaan 1**"
   ]
  },
  {
   "cell_type": "markdown",
   "metadata": {
    "id": "MW7WF2kr8DC1"
   },
   "source": [
    "### Explore products_df & order_items_df"
   ]
  },
  {
   "cell_type": "markdown",
   "metadata": {},
   "source": [
    "#### Buat copy terlebih dahulu dari dataset asli"
   ]
  },
  {
   "cell_type": "code",
   "execution_count": 17,
   "metadata": {},
   "outputs": [],
   "source": [
    "products_df_1 = products_df.copy()\n",
    "order_items_df_1 = order_items_df.copy()"
   ]
  },
  {
   "cell_type": "markdown",
   "metadata": {},
   "source": [
    "#### Saya akan menggabungkan dataset products_df_1 & order_items_df_1"
   ]
  },
  {
   "cell_type": "code",
   "execution_count": 18,
   "metadata": {},
   "outputs": [
    {
     "data": {
      "text/html": [
       "<div>\n",
       "<style scoped>\n",
       "    .dataframe tbody tr th:only-of-type {\n",
       "        vertical-align: middle;\n",
       "    }\n",
       "\n",
       "    .dataframe tbody tr th {\n",
       "        vertical-align: top;\n",
       "    }\n",
       "\n",
       "    .dataframe thead th {\n",
       "        text-align: right;\n",
       "    }\n",
       "</style>\n",
       "<table border=\"1\" class=\"dataframe\">\n",
       "  <thead>\n",
       "    <tr style=\"text-align: right;\">\n",
       "      <th></th>\n",
       "      <th>order_id</th>\n",
       "      <th>order_item_id</th>\n",
       "      <th>product_id</th>\n",
       "      <th>seller_id</th>\n",
       "      <th>shipping_limit_date</th>\n",
       "      <th>price</th>\n",
       "      <th>freight_value</th>\n",
       "      <th>product_category_name</th>\n",
       "      <th>product_name_lenght</th>\n",
       "      <th>product_description_lenght</th>\n",
       "      <th>product_photos_qty</th>\n",
       "      <th>product_weight_g</th>\n",
       "      <th>product_length_cm</th>\n",
       "      <th>product_height_cm</th>\n",
       "      <th>product_width_cm</th>\n",
       "    </tr>\n",
       "  </thead>\n",
       "  <tbody>\n",
       "    <tr>\n",
       "      <th>0</th>\n",
       "      <td>00010242fe8c5a6d1ba2dd792cb16214</td>\n",
       "      <td>1</td>\n",
       "      <td>4244733e06e7ecb4970a6e2683c13e61</td>\n",
       "      <td>48436dade18ac8b2bce089ec2a041202</td>\n",
       "      <td>2017-09-19 09:45:35</td>\n",
       "      <td>58.90</td>\n",
       "      <td>13.29</td>\n",
       "      <td>cool_stuff</td>\n",
       "      <td>58.0</td>\n",
       "      <td>598.0</td>\n",
       "      <td>4.0</td>\n",
       "      <td>650.0</td>\n",
       "      <td>28.0</td>\n",
       "      <td>9.0</td>\n",
       "      <td>14.0</td>\n",
       "    </tr>\n",
       "    <tr>\n",
       "      <th>1</th>\n",
       "      <td>00018f77f2f0320c557190d7a144bdd3</td>\n",
       "      <td>1</td>\n",
       "      <td>e5f2d52b802189ee658865ca93d83a8f</td>\n",
       "      <td>dd7ddc04e1b6c2c614352b383efe2d36</td>\n",
       "      <td>2017-05-03 11:05:13</td>\n",
       "      <td>239.90</td>\n",
       "      <td>19.93</td>\n",
       "      <td>pet_shop</td>\n",
       "      <td>56.0</td>\n",
       "      <td>239.0</td>\n",
       "      <td>2.0</td>\n",
       "      <td>30000.0</td>\n",
       "      <td>50.0</td>\n",
       "      <td>30.0</td>\n",
       "      <td>40.0</td>\n",
       "    </tr>\n",
       "    <tr>\n",
       "      <th>2</th>\n",
       "      <td>000229ec398224ef6ca0657da4fc703e</td>\n",
       "      <td>1</td>\n",
       "      <td>c777355d18b72b67abbeef9df44fd0fd</td>\n",
       "      <td>5b51032eddd242adc84c38acab88f23d</td>\n",
       "      <td>2018-01-18 14:48:30</td>\n",
       "      <td>199.00</td>\n",
       "      <td>17.87</td>\n",
       "      <td>moveis_decoracao</td>\n",
       "      <td>59.0</td>\n",
       "      <td>695.0</td>\n",
       "      <td>2.0</td>\n",
       "      <td>3050.0</td>\n",
       "      <td>33.0</td>\n",
       "      <td>13.0</td>\n",
       "      <td>33.0</td>\n",
       "    </tr>\n",
       "    <tr>\n",
       "      <th>3</th>\n",
       "      <td>00024acbcdf0a6daa1e931b038114c75</td>\n",
       "      <td>1</td>\n",
       "      <td>7634da152a4610f1595efa32f14722fc</td>\n",
       "      <td>9d7a1d34a5052409006425275ba1c2b4</td>\n",
       "      <td>2018-08-15 10:10:18</td>\n",
       "      <td>12.99</td>\n",
       "      <td>12.79</td>\n",
       "      <td>perfumaria</td>\n",
       "      <td>42.0</td>\n",
       "      <td>480.0</td>\n",
       "      <td>1.0</td>\n",
       "      <td>200.0</td>\n",
       "      <td>16.0</td>\n",
       "      <td>10.0</td>\n",
       "      <td>15.0</td>\n",
       "    </tr>\n",
       "    <tr>\n",
       "      <th>4</th>\n",
       "      <td>00042b26cf59d7ce69dfabb4e55b4fd9</td>\n",
       "      <td>1</td>\n",
       "      <td>ac6c3623068f30de03045865e4e10089</td>\n",
       "      <td>df560393f3a51e74553ab94004ba5c87</td>\n",
       "      <td>2017-02-13 13:57:51</td>\n",
       "      <td>199.90</td>\n",
       "      <td>18.14</td>\n",
       "      <td>ferramentas_jardim</td>\n",
       "      <td>59.0</td>\n",
       "      <td>409.0</td>\n",
       "      <td>1.0</td>\n",
       "      <td>3750.0</td>\n",
       "      <td>35.0</td>\n",
       "      <td>40.0</td>\n",
       "      <td>30.0</td>\n",
       "    </tr>\n",
       "  </tbody>\n",
       "</table>\n",
       "</div>"
      ],
      "text/plain": [
       "                           order_id  order_item_id  \\\n",
       "0  00010242fe8c5a6d1ba2dd792cb16214              1   \n",
       "1  00018f77f2f0320c557190d7a144bdd3              1   \n",
       "2  000229ec398224ef6ca0657da4fc703e              1   \n",
       "3  00024acbcdf0a6daa1e931b038114c75              1   \n",
       "4  00042b26cf59d7ce69dfabb4e55b4fd9              1   \n",
       "\n",
       "                         product_id                         seller_id  \\\n",
       "0  4244733e06e7ecb4970a6e2683c13e61  48436dade18ac8b2bce089ec2a041202   \n",
       "1  e5f2d52b802189ee658865ca93d83a8f  dd7ddc04e1b6c2c614352b383efe2d36   \n",
       "2  c777355d18b72b67abbeef9df44fd0fd  5b51032eddd242adc84c38acab88f23d   \n",
       "3  7634da152a4610f1595efa32f14722fc  9d7a1d34a5052409006425275ba1c2b4   \n",
       "4  ac6c3623068f30de03045865e4e10089  df560393f3a51e74553ab94004ba5c87   \n",
       "\n",
       "  shipping_limit_date   price  freight_value product_category_name  \\\n",
       "0 2017-09-19 09:45:35   58.90          13.29            cool_stuff   \n",
       "1 2017-05-03 11:05:13  239.90          19.93              pet_shop   \n",
       "2 2018-01-18 14:48:30  199.00          17.87      moveis_decoracao   \n",
       "3 2018-08-15 10:10:18   12.99          12.79            perfumaria   \n",
       "4 2017-02-13 13:57:51  199.90          18.14    ferramentas_jardim   \n",
       "\n",
       "   product_name_lenght  product_description_lenght  product_photos_qty  \\\n",
       "0                 58.0                       598.0                 4.0   \n",
       "1                 56.0                       239.0                 2.0   \n",
       "2                 59.0                       695.0                 2.0   \n",
       "3                 42.0                       480.0                 1.0   \n",
       "4                 59.0                       409.0                 1.0   \n",
       "\n",
       "   product_weight_g  product_length_cm  product_height_cm  product_width_cm  \n",
       "0             650.0               28.0                9.0              14.0  \n",
       "1           30000.0               50.0               30.0              40.0  \n",
       "2            3050.0               33.0               13.0              33.0  \n",
       "3             200.0               16.0               10.0              15.0  \n",
       "4            3750.0               35.0               40.0              30.0  "
      ]
     },
     "execution_count": 18,
     "metadata": {},
     "output_type": "execute_result"
    }
   ],
   "source": [
    "orderitems_products_df = pd.merge(\n",
    "    left=order_items_df_1,\n",
    "    right=products_df_1,\n",
    "    how=\"left\",\n",
    "    left_on=\"product_id\",\n",
    "    right_on=\"product_id\"\n",
    ")\n",
    "orderitems_products_df.head()"
   ]
  },
  {
   "cell_type": "markdown",
   "metadata": {},
   "source": [
    "Drop kolom yang tidak relevan"
   ]
  },
  {
   "cell_type": "code",
   "execution_count": 19,
   "metadata": {},
   "outputs": [],
   "source": [
    "orderitems_products_df = orderitems_products_df.drop(['order_item_id', 'seller_id', 'shipping_limit_date', 'freight_value', 'product_name_lenght', 'product_description_lenght', 'product_photos_qty', 'product_weight_g', 'product_length_cm', 'product_height_cm', 'product_width_cm'], axis=1)"
   ]
  },
  {
   "cell_type": "code",
   "execution_count": 20,
   "metadata": {},
   "outputs": [
    {
     "data": {
      "text/html": [
       "<div>\n",
       "<style scoped>\n",
       "    .dataframe tbody tr th:only-of-type {\n",
       "        vertical-align: middle;\n",
       "    }\n",
       "\n",
       "    .dataframe tbody tr th {\n",
       "        vertical-align: top;\n",
       "    }\n",
       "\n",
       "    .dataframe thead th {\n",
       "        text-align: right;\n",
       "    }\n",
       "</style>\n",
       "<table border=\"1\" class=\"dataframe\">\n",
       "  <thead>\n",
       "    <tr style=\"text-align: right;\">\n",
       "      <th></th>\n",
       "      <th>order_id</th>\n",
       "      <th>product_id</th>\n",
       "      <th>price</th>\n",
       "      <th>product_category_name</th>\n",
       "    </tr>\n",
       "  </thead>\n",
       "  <tbody>\n",
       "    <tr>\n",
       "      <th>0</th>\n",
       "      <td>00010242fe8c5a6d1ba2dd792cb16214</td>\n",
       "      <td>4244733e06e7ecb4970a6e2683c13e61</td>\n",
       "      <td>58.90</td>\n",
       "      <td>cool_stuff</td>\n",
       "    </tr>\n",
       "    <tr>\n",
       "      <th>1</th>\n",
       "      <td>00018f77f2f0320c557190d7a144bdd3</td>\n",
       "      <td>e5f2d52b802189ee658865ca93d83a8f</td>\n",
       "      <td>239.90</td>\n",
       "      <td>pet_shop</td>\n",
       "    </tr>\n",
       "    <tr>\n",
       "      <th>2</th>\n",
       "      <td>000229ec398224ef6ca0657da4fc703e</td>\n",
       "      <td>c777355d18b72b67abbeef9df44fd0fd</td>\n",
       "      <td>199.00</td>\n",
       "      <td>moveis_decoracao</td>\n",
       "    </tr>\n",
       "    <tr>\n",
       "      <th>3</th>\n",
       "      <td>00024acbcdf0a6daa1e931b038114c75</td>\n",
       "      <td>7634da152a4610f1595efa32f14722fc</td>\n",
       "      <td>12.99</td>\n",
       "      <td>perfumaria</td>\n",
       "    </tr>\n",
       "    <tr>\n",
       "      <th>4</th>\n",
       "      <td>00042b26cf59d7ce69dfabb4e55b4fd9</td>\n",
       "      <td>ac6c3623068f30de03045865e4e10089</td>\n",
       "      <td>199.90</td>\n",
       "      <td>ferramentas_jardim</td>\n",
       "    </tr>\n",
       "  </tbody>\n",
       "</table>\n",
       "</div>"
      ],
      "text/plain": [
       "                           order_id                        product_id   price  \\\n",
       "0  00010242fe8c5a6d1ba2dd792cb16214  4244733e06e7ecb4970a6e2683c13e61   58.90   \n",
       "1  00018f77f2f0320c557190d7a144bdd3  e5f2d52b802189ee658865ca93d83a8f  239.90   \n",
       "2  000229ec398224ef6ca0657da4fc703e  c777355d18b72b67abbeef9df44fd0fd  199.00   \n",
       "3  00024acbcdf0a6daa1e931b038114c75  7634da152a4610f1595efa32f14722fc   12.99   \n",
       "4  00042b26cf59d7ce69dfabb4e55b4fd9  ac6c3623068f30de03045865e4e10089  199.90   \n",
       "\n",
       "  product_category_name  \n",
       "0            cool_stuff  \n",
       "1              pet_shop  \n",
       "2      moveis_decoracao  \n",
       "3            perfumaria  \n",
       "4    ferramentas_jardim  "
      ]
     },
     "execution_count": 20,
     "metadata": {},
     "output_type": "execute_result"
    }
   ],
   "source": [
    "orderitems_products_df.head()"
   ]
  },
  {
   "cell_type": "markdown",
   "metadata": {},
   "source": [
    "#### Tambahkan terjemahan nama produk "
   ]
  },
  {
   "cell_type": "code",
   "execution_count": 21,
   "metadata": {},
   "outputs": [
    {
     "data": {
      "text/html": [
       "<div>\n",
       "<style scoped>\n",
       "    .dataframe tbody tr th:only-of-type {\n",
       "        vertical-align: middle;\n",
       "    }\n",
       "\n",
       "    .dataframe tbody tr th {\n",
       "        vertical-align: top;\n",
       "    }\n",
       "\n",
       "    .dataframe thead th {\n",
       "        text-align: right;\n",
       "    }\n",
       "</style>\n",
       "<table border=\"1\" class=\"dataframe\">\n",
       "  <thead>\n",
       "    <tr style=\"text-align: right;\">\n",
       "      <th></th>\n",
       "      <th>order_id</th>\n",
       "      <th>product_id</th>\n",
       "      <th>price</th>\n",
       "      <th>product_category_name</th>\n",
       "      <th>product_category_name_english</th>\n",
       "    </tr>\n",
       "  </thead>\n",
       "  <tbody>\n",
       "    <tr>\n",
       "      <th>0</th>\n",
       "      <td>00010242fe8c5a6d1ba2dd792cb16214</td>\n",
       "      <td>4244733e06e7ecb4970a6e2683c13e61</td>\n",
       "      <td>58.90</td>\n",
       "      <td>cool_stuff</td>\n",
       "      <td>cool_stuff</td>\n",
       "    </tr>\n",
       "    <tr>\n",
       "      <th>1</th>\n",
       "      <td>00018f77f2f0320c557190d7a144bdd3</td>\n",
       "      <td>e5f2d52b802189ee658865ca93d83a8f</td>\n",
       "      <td>239.90</td>\n",
       "      <td>pet_shop</td>\n",
       "      <td>pet_shop</td>\n",
       "    </tr>\n",
       "    <tr>\n",
       "      <th>2</th>\n",
       "      <td>000229ec398224ef6ca0657da4fc703e</td>\n",
       "      <td>c777355d18b72b67abbeef9df44fd0fd</td>\n",
       "      <td>199.00</td>\n",
       "      <td>moveis_decoracao</td>\n",
       "      <td>furniture_decor</td>\n",
       "    </tr>\n",
       "    <tr>\n",
       "      <th>3</th>\n",
       "      <td>00024acbcdf0a6daa1e931b038114c75</td>\n",
       "      <td>7634da152a4610f1595efa32f14722fc</td>\n",
       "      <td>12.99</td>\n",
       "      <td>perfumaria</td>\n",
       "      <td>perfumery</td>\n",
       "    </tr>\n",
       "    <tr>\n",
       "      <th>4</th>\n",
       "      <td>00042b26cf59d7ce69dfabb4e55b4fd9</td>\n",
       "      <td>ac6c3623068f30de03045865e4e10089</td>\n",
       "      <td>199.90</td>\n",
       "      <td>ferramentas_jardim</td>\n",
       "      <td>garden_tools</td>\n",
       "    </tr>\n",
       "  </tbody>\n",
       "</table>\n",
       "</div>"
      ],
      "text/plain": [
       "                           order_id                        product_id   price  \\\n",
       "0  00010242fe8c5a6d1ba2dd792cb16214  4244733e06e7ecb4970a6e2683c13e61   58.90   \n",
       "1  00018f77f2f0320c557190d7a144bdd3  e5f2d52b802189ee658865ca93d83a8f  239.90   \n",
       "2  000229ec398224ef6ca0657da4fc703e  c777355d18b72b67abbeef9df44fd0fd  199.00   \n",
       "3  00024acbcdf0a6daa1e931b038114c75  7634da152a4610f1595efa32f14722fc   12.99   \n",
       "4  00042b26cf59d7ce69dfabb4e55b4fd9  ac6c3623068f30de03045865e4e10089  199.90   \n",
       "\n",
       "  product_category_name product_category_name_english  \n",
       "0            cool_stuff                    cool_stuff  \n",
       "1              pet_shop                      pet_shop  \n",
       "2      moveis_decoracao               furniture_decor  \n",
       "3            perfumaria                     perfumery  \n",
       "4    ferramentas_jardim                  garden_tools  "
      ]
     },
     "execution_count": 21,
     "metadata": {},
     "output_type": "execute_result"
    }
   ],
   "source": [
    "orderitems_products_df = pd.merge(\n",
    "    left=orderitems_products_df,\n",
    "    right=product_category_name_translation_df,\n",
    "    how=\"left\",\n",
    "    left_on=\"product_category_name\",\n",
    "    right_on=\"product_category_name\"\n",
    ")\n",
    "orderitems_products_df.head()"
   ]
  },
  {
   "cell_type": "markdown",
   "metadata": {},
   "source": [
    "### Explore orders_df"
   ]
  },
  {
   "cell_type": "markdown",
   "metadata": {},
   "source": [
    "#### Buat copy dari dataset asli"
   ]
  },
  {
   "cell_type": "code",
   "execution_count": 22,
   "metadata": {},
   "outputs": [],
   "source": [
    "orders_df_1 = orders_df.copy()"
   ]
  },
  {
   "cell_type": "markdown",
   "metadata": {},
   "source": [
    "#### Gabungkan dataset \"orderitems_products_df\" dengan \"orders_df_1\""
   ]
  },
  {
   "cell_type": "code",
   "execution_count": 23,
   "metadata": {},
   "outputs": [
    {
     "data": {
      "text/html": [
       "<div>\n",
       "<style scoped>\n",
       "    .dataframe tbody tr th:only-of-type {\n",
       "        vertical-align: middle;\n",
       "    }\n",
       "\n",
       "    .dataframe tbody tr th {\n",
       "        vertical-align: top;\n",
       "    }\n",
       "\n",
       "    .dataframe thead th {\n",
       "        text-align: right;\n",
       "    }\n",
       "</style>\n",
       "<table border=\"1\" class=\"dataframe\">\n",
       "  <thead>\n",
       "    <tr style=\"text-align: right;\">\n",
       "      <th></th>\n",
       "      <th>order_id</th>\n",
       "      <th>product_id</th>\n",
       "      <th>price</th>\n",
       "      <th>product_category_name</th>\n",
       "      <th>product_category_name_english</th>\n",
       "      <th>customer_id</th>\n",
       "      <th>order_delivered_customer_date</th>\n",
       "    </tr>\n",
       "  </thead>\n",
       "  <tbody>\n",
       "    <tr>\n",
       "      <th>0</th>\n",
       "      <td>00010242fe8c5a6d1ba2dd792cb16214</td>\n",
       "      <td>4244733e06e7ecb4970a6e2683c13e61</td>\n",
       "      <td>58.90</td>\n",
       "      <td>cool_stuff</td>\n",
       "      <td>cool_stuff</td>\n",
       "      <td>3ce436f183e68e07877b285a838db11a</td>\n",
       "      <td>2017-09-20 23:43:48</td>\n",
       "    </tr>\n",
       "    <tr>\n",
       "      <th>1</th>\n",
       "      <td>00018f77f2f0320c557190d7a144bdd3</td>\n",
       "      <td>e5f2d52b802189ee658865ca93d83a8f</td>\n",
       "      <td>239.90</td>\n",
       "      <td>pet_shop</td>\n",
       "      <td>pet_shop</td>\n",
       "      <td>f6dd3ec061db4e3987629fe6b26e5cce</td>\n",
       "      <td>2017-05-12 16:04:24</td>\n",
       "    </tr>\n",
       "    <tr>\n",
       "      <th>2</th>\n",
       "      <td>000229ec398224ef6ca0657da4fc703e</td>\n",
       "      <td>c777355d18b72b67abbeef9df44fd0fd</td>\n",
       "      <td>199.00</td>\n",
       "      <td>moveis_decoracao</td>\n",
       "      <td>furniture_decor</td>\n",
       "      <td>6489ae5e4333f3693df5ad4372dab6d3</td>\n",
       "      <td>2018-01-22 13:19:16</td>\n",
       "    </tr>\n",
       "    <tr>\n",
       "      <th>3</th>\n",
       "      <td>00024acbcdf0a6daa1e931b038114c75</td>\n",
       "      <td>7634da152a4610f1595efa32f14722fc</td>\n",
       "      <td>12.99</td>\n",
       "      <td>perfumaria</td>\n",
       "      <td>perfumery</td>\n",
       "      <td>d4eb9395c8c0431ee92fce09860c5a06</td>\n",
       "      <td>2018-08-14 13:32:39</td>\n",
       "    </tr>\n",
       "    <tr>\n",
       "      <th>4</th>\n",
       "      <td>00042b26cf59d7ce69dfabb4e55b4fd9</td>\n",
       "      <td>ac6c3623068f30de03045865e4e10089</td>\n",
       "      <td>199.90</td>\n",
       "      <td>ferramentas_jardim</td>\n",
       "      <td>garden_tools</td>\n",
       "      <td>58dbd0b2d70206bf40e62cd34e84d795</td>\n",
       "      <td>2017-03-01 16:42:31</td>\n",
       "    </tr>\n",
       "  </tbody>\n",
       "</table>\n",
       "</div>"
      ],
      "text/plain": [
       "                           order_id                        product_id   price  \\\n",
       "0  00010242fe8c5a6d1ba2dd792cb16214  4244733e06e7ecb4970a6e2683c13e61   58.90   \n",
       "1  00018f77f2f0320c557190d7a144bdd3  e5f2d52b802189ee658865ca93d83a8f  239.90   \n",
       "2  000229ec398224ef6ca0657da4fc703e  c777355d18b72b67abbeef9df44fd0fd  199.00   \n",
       "3  00024acbcdf0a6daa1e931b038114c75  7634da152a4610f1595efa32f14722fc   12.99   \n",
       "4  00042b26cf59d7ce69dfabb4e55b4fd9  ac6c3623068f30de03045865e4e10089  199.90   \n",
       "\n",
       "  product_category_name product_category_name_english  \\\n",
       "0            cool_stuff                    cool_stuff   \n",
       "1              pet_shop                      pet_shop   \n",
       "2      moveis_decoracao               furniture_decor   \n",
       "3            perfumaria                     perfumery   \n",
       "4    ferramentas_jardim                  garden_tools   \n",
       "\n",
       "                        customer_id order_delivered_customer_date  \n",
       "0  3ce436f183e68e07877b285a838db11a           2017-09-20 23:43:48  \n",
       "1  f6dd3ec061db4e3987629fe6b26e5cce           2017-05-12 16:04:24  \n",
       "2  6489ae5e4333f3693df5ad4372dab6d3           2018-01-22 13:19:16  \n",
       "3  d4eb9395c8c0431ee92fce09860c5a06           2018-08-14 13:32:39  \n",
       "4  58dbd0b2d70206bf40e62cd34e84d795           2017-03-01 16:42:31  "
      ]
     },
     "execution_count": 23,
     "metadata": {},
     "output_type": "execute_result"
    }
   ],
   "source": [
    "orderitems_products_df = pd.merge(\n",
    "    left=orderitems_products_df,\n",
    "    right=orders_df_1,\n",
    "    how=\"left\",\n",
    "    left_on=\"order_id\",\n",
    "    right_on=\"order_id\"\n",
    ")\n",
    "orderitems_products_df.head()"
   ]
  },
  {
   "cell_type": "markdown",
   "metadata": {},
   "source": [
    "Drop kolom yang tidak relevan"
   ]
  },
  {
   "cell_type": "code",
   "execution_count": 24,
   "metadata": {},
   "outputs": [],
   "source": [
    "orderitems_products_df = orderitems_products_df.drop(['customer_id'], axis=1)"
   ]
  },
  {
   "cell_type": "markdown",
   "metadata": {},
   "source": [
    "Karena ini adalah dataset final maka saya akan menyimpannya ke dataset baru khusus untuk dianalisis untuk final"
   ]
  },
  {
   "cell_type": "code",
   "execution_count": 25,
   "metadata": {},
   "outputs": [],
   "source": [
    "q1_df = orderitems_products_df.copy()"
   ]
  },
  {
   "cell_type": "markdown",
   "metadata": {},
   "source": [
    "#### Bersihkan sedikit dataset final"
   ]
  },
  {
   "cell_type": "code",
   "execution_count": 26,
   "metadata": {},
   "outputs": [
    {
     "name": "stdout",
     "output_type": "stream",
     "text": [
      "Kolom dengan nilai duplikat: ['order_id', 'product_id', 'price', 'product_category_name', 'product_category_name_english', 'order_delivered_customer_date']\n",
      "Jumlah duplikasi:  0\n"
     ]
    }
   ],
   "source": [
    "#handling missing value\n",
    "q1_df.isna().sum()\n",
    "q1_df = q1_df.dropna()\n",
    "q1_df.head()\n",
    "\n",
    "#handling duplicates\n",
    "# Mengecek kolom yang memiliki nilai duplikat\n",
    "duplicate_columns = q1_df.columns[q1_df.apply(lambda x: x.duplicated().any())]\n",
    "print(\"Kolom dengan nilai duplikat:\", duplicate_columns.tolist())\n",
    "# Menghapus baris dengan order_id duplikat\n",
    "q1_df = q1_df.drop_duplicates(subset='order_id', keep='first')\n",
    "# Memeriksa kembali jumlah duplicates\n",
    "print(\"Jumlah duplikasi: \", q1_df.duplicated().sum())"
   ]
  },
  {
   "cell_type": "code",
   "execution_count": 27,
   "metadata": {},
   "outputs": [
    {
     "name": "stdout",
     "output_type": "stream",
     "text": [
      "<class 'pandas.core.frame.DataFrame'>\n",
      "Index: 95124 entries, 0 to 112649\n",
      "Data columns (total 6 columns):\n",
      " #   Column                         Non-Null Count  Dtype         \n",
      "---  ------                         --------------  -----         \n",
      " 0   order_id                       95124 non-null  object        \n",
      " 1   product_id                     95124 non-null  object        \n",
      " 2   price                          95124 non-null  float64       \n",
      " 3   product_category_name          95124 non-null  object        \n",
      " 4   product_category_name_english  95124 non-null  object        \n",
      " 5   order_delivered_customer_date  95124 non-null  datetime64[ns]\n",
      "dtypes: datetime64[ns](1), float64(1), object(4)\n",
      "memory usage: 5.1+ MB\n"
     ]
    }
   ],
   "source": [
    "q1_df.info()"
   ]
  },
  {
   "cell_type": "markdown",
   "metadata": {},
   "source": [
    "#### Karena fokus bahasan saya kali ini hanya health_beauty maka saya akan melakukan drop pada produk dengan kategori selain ini"
   ]
  },
  {
   "cell_type": "code",
   "execution_count": 28,
   "metadata": {},
   "outputs": [
    {
     "name": "stdout",
     "output_type": "stream",
     "text": [
      "<class 'pandas.core.frame.DataFrame'>\n",
      "Index: 8609 entries, 8 to 112624\n",
      "Data columns (total 6 columns):\n",
      " #   Column                         Non-Null Count  Dtype         \n",
      "---  ------                         --------------  -----         \n",
      " 0   order_id                       8609 non-null   object        \n",
      " 1   product_id                     8609 non-null   object        \n",
      " 2   price                          8609 non-null   float64       \n",
      " 3   product_category_name          8609 non-null   object        \n",
      " 4   product_category_name_english  8609 non-null   object        \n",
      " 5   order_delivered_customer_date  8609 non-null   datetime64[ns]\n",
      "dtypes: datetime64[ns](1), float64(1), object(4)\n",
      "memory usage: 470.8+ KB\n"
     ]
    }
   ],
   "source": [
    "health_beauty_q1_df = q1_df[q1_df['product_category_name_english'] == 'health_beauty']\n",
    "\n",
    "# Menampilkan hasil\n",
    "health_beauty_q1_df.head()\n",
    "health_beauty_q1_df.info()"
   ]
  },
  {
   "cell_type": "markdown",
   "metadata": {},
   "source": [
    "**Kedua, saya akan fokus mengeksplorasi data dalam rangka menjawab pertanyaan 2**"
   ]
  },
  {
   "cell_type": "markdown",
   "metadata": {
    "id": "MW7WF2kr8DC1"
   },
   "source": [
    "### Explore customers_df dan orders_df"
   ]
  },
  {
   "cell_type": "markdown",
   "metadata": {},
   "source": [
    "Eksplorasi pada dataset \"customers_df\" berfokus untuk mencari tahu kota apa yang menduduki rekor penjualan terbanyak di sepanjang tahun 2016\n",
    "\n",
    "Saya akan melakukan eksplorasi terhadap tabel customers_df yang berfokus pada kota dan negara bagian asal dari para customer untuk mengetahui demografi customer pada aspek daerah"
   ]
  },
  {
   "cell_type": "markdown",
   "metadata": {},
   "source": [
    "#### Melakukan copy terhadap dataset asli terlebih dahulu agar tidak mengubah dataset asli"
   ]
  },
  {
   "cell_type": "code",
   "execution_count": 29,
   "metadata": {},
   "outputs": [],
   "source": [
    "orders_df_2 = orders_df.copy()\n",
    "customers_df_2 = customers_df.copy()"
   ]
  },
  {
   "cell_type": "markdown",
   "metadata": {},
   "source": [
    "#### Menentukan Rentang Waktu yang Akan Dijadikan Fokus Analisis"
   ]
  },
  {
   "cell_type": "code",
   "execution_count": 30,
   "metadata": {},
   "outputs": [
    {
     "name": "stdout",
     "output_type": "stream",
     "text": [
      "Tahun 2016.0: ['October' 'November' 'December']\n",
      "Tahun 2017.0: ['October' 'December' 'July' 'May' 'February' 'August' 'November'\n",
      " 'September' 'April' 'June' 'March' 'January']\n",
      "Tahun 2018.0: ['August' 'February' 'June' 'July' 'March' 'January' 'May' 'April'\n",
      " 'September' 'October']\n"
     ]
    }
   ],
   "source": [
    "# Ekstrak tahun dan bulan\n",
    "orders_df_2['year'] = orders_df_2['order_delivered_customer_date'].dt.year\n",
    "orders_df_2['month'] = orders_df_2['order_delivered_customer_date'].dt.month_name()\n",
    "\n",
    "# Mengambil tahun yang diinginkan\n",
    "years_of_interest = [2016, 2017, 2018]\n",
    "\n",
    "# Mengelompokkan berdasarkan tahun dan bulan, lalu mengumpulkan bulan yang tersedia untuk setiap tahun\n",
    "available_months = (\n",
    "    orders_df_2[orders_df_2['year'].isin(years_of_interest)]\n",
    "    .groupby('year')['month']\n",
    "    .unique()\n",
    ")\n",
    "\n",
    "# Menampilkan hasil\n",
    "for year in available_months.index:\n",
    "    print(f'Tahun {year}: {available_months[year]}')"
   ]
  },
  {
   "cell_type": "markdown",
   "metadata": {},
   "source": [
    "Didapati fakta bahwa tahun 2017 adalah tahun dengan data terlengkap di mana ke-12 bulan ada. Atas dasar alasan tersebut, saya memutuskan untuk memfokuskan analisis pada rentang tahun 2017"
   ]
  },
  {
   "cell_type": "markdown",
   "metadata": {},
   "source": [
    "#### Saya akan menggabungkan tabel \"customers_df_2\" dan \"orders_df_2\" "
   ]
  },
  {
   "cell_type": "code",
   "execution_count": 31,
   "metadata": {},
   "outputs": [
    {
     "data": {
      "text/html": [
       "<div>\n",
       "<style scoped>\n",
       "    .dataframe tbody tr th:only-of-type {\n",
       "        vertical-align: middle;\n",
       "    }\n",
       "\n",
       "    .dataframe tbody tr th {\n",
       "        vertical-align: top;\n",
       "    }\n",
       "\n",
       "    .dataframe thead th {\n",
       "        text-align: right;\n",
       "    }\n",
       "</style>\n",
       "<table border=\"1\" class=\"dataframe\">\n",
       "  <thead>\n",
       "    <tr style=\"text-align: right;\">\n",
       "      <th></th>\n",
       "      <th>customer_id</th>\n",
       "      <th>customer_unique_id</th>\n",
       "      <th>customer_zip_code_prefix</th>\n",
       "      <th>customer_city</th>\n",
       "      <th>customer_state</th>\n",
       "      <th>order_id</th>\n",
       "      <th>order_delivered_customer_date</th>\n",
       "      <th>year</th>\n",
       "      <th>month</th>\n",
       "    </tr>\n",
       "  </thead>\n",
       "  <tbody>\n",
       "    <tr>\n",
       "      <th>0</th>\n",
       "      <td>06b8999e2fba1a1fbc88172c00ba8bc7</td>\n",
       "      <td>861eff4711a542e4b93843c6dd7febb0</td>\n",
       "      <td>14409</td>\n",
       "      <td>franca</td>\n",
       "      <td>SP</td>\n",
       "      <td>00e7ee1b050b8499577073aeb2a297a1</td>\n",
       "      <td>2017-05-25 10:35:35</td>\n",
       "      <td>2017.0</td>\n",
       "      <td>May</td>\n",
       "    </tr>\n",
       "    <tr>\n",
       "      <th>1</th>\n",
       "      <td>18955e83d337fd6b2def6b18a428ac77</td>\n",
       "      <td>290c77bc529b7ac935b93aa66c333dc3</td>\n",
       "      <td>9790</td>\n",
       "      <td>sao bernardo do campo</td>\n",
       "      <td>SP</td>\n",
       "      <td>29150127e6685892b6eab3eec79f59c7</td>\n",
       "      <td>2018-01-29 12:41:19</td>\n",
       "      <td>2018.0</td>\n",
       "      <td>January</td>\n",
       "    </tr>\n",
       "    <tr>\n",
       "      <th>2</th>\n",
       "      <td>4e7b3e00288586ebd08712fdd0374a03</td>\n",
       "      <td>060e732b5b29e8181a18229c7b0b2b5e</td>\n",
       "      <td>1151</td>\n",
       "      <td>sao paulo</td>\n",
       "      <td>SP</td>\n",
       "      <td>b2059ed67ce144a36e2aa97d2c9e9ad2</td>\n",
       "      <td>2018-06-14 17:58:51</td>\n",
       "      <td>2018.0</td>\n",
       "      <td>June</td>\n",
       "    </tr>\n",
       "    <tr>\n",
       "      <th>3</th>\n",
       "      <td>b2b6027bc5c5109e529d4dc6358b12c3</td>\n",
       "      <td>259dac757896d24d7702b9acbbff3f3c</td>\n",
       "      <td>8775</td>\n",
       "      <td>mogi das cruzes</td>\n",
       "      <td>SP</td>\n",
       "      <td>951670f92359f4fe4a63112aa7306eba</td>\n",
       "      <td>2018-03-28 16:04:25</td>\n",
       "      <td>2018.0</td>\n",
       "      <td>March</td>\n",
       "    </tr>\n",
       "    <tr>\n",
       "      <th>4</th>\n",
       "      <td>4f2d8ab171c80ec8364f7c12e35b23ad</td>\n",
       "      <td>345ecd01c38d18a9036ed96c73b8d066</td>\n",
       "      <td>13056</td>\n",
       "      <td>campinas</td>\n",
       "      <td>SP</td>\n",
       "      <td>6b7d50bd145f6fc7f33cebabd7e49d0f</td>\n",
       "      <td>2018-08-09 20:55:48</td>\n",
       "      <td>2018.0</td>\n",
       "      <td>August</td>\n",
       "    </tr>\n",
       "  </tbody>\n",
       "</table>\n",
       "</div>"
      ],
      "text/plain": [
       "                        customer_id                customer_unique_id  \\\n",
       "0  06b8999e2fba1a1fbc88172c00ba8bc7  861eff4711a542e4b93843c6dd7febb0   \n",
       "1  18955e83d337fd6b2def6b18a428ac77  290c77bc529b7ac935b93aa66c333dc3   \n",
       "2  4e7b3e00288586ebd08712fdd0374a03  060e732b5b29e8181a18229c7b0b2b5e   \n",
       "3  b2b6027bc5c5109e529d4dc6358b12c3  259dac757896d24d7702b9acbbff3f3c   \n",
       "4  4f2d8ab171c80ec8364f7c12e35b23ad  345ecd01c38d18a9036ed96c73b8d066   \n",
       "\n",
       "  customer_zip_code_prefix          customer_city customer_state  \\\n",
       "0                    14409                 franca             SP   \n",
       "1                     9790  sao bernardo do campo             SP   \n",
       "2                     1151              sao paulo             SP   \n",
       "3                     8775        mogi das cruzes             SP   \n",
       "4                    13056               campinas             SP   \n",
       "\n",
       "                           order_id order_delivered_customer_date    year  \\\n",
       "0  00e7ee1b050b8499577073aeb2a297a1           2017-05-25 10:35:35  2017.0   \n",
       "1  29150127e6685892b6eab3eec79f59c7           2018-01-29 12:41:19  2018.0   \n",
       "2  b2059ed67ce144a36e2aa97d2c9e9ad2           2018-06-14 17:58:51  2018.0   \n",
       "3  951670f92359f4fe4a63112aa7306eba           2018-03-28 16:04:25  2018.0   \n",
       "4  6b7d50bd145f6fc7f33cebabd7e49d0f           2018-08-09 20:55:48  2018.0   \n",
       "\n",
       "     month  \n",
       "0      May  \n",
       "1  January  \n",
       "2     June  \n",
       "3    March  \n",
       "4   August  "
      ]
     },
     "execution_count": 31,
     "metadata": {},
     "output_type": "execute_result"
    }
   ],
   "source": [
    "customers_orders_df = pd.merge(\n",
    "    left=customers_df_2,\n",
    "    right=orders_df_2,\n",
    "    how=\"left\",\n",
    "    left_on=\"customer_id\",\n",
    "    right_on=\"customer_id\"\n",
    ")\n",
    "customers_orders_df.head()"
   ]
  },
  {
   "cell_type": "markdown",
   "metadata": {},
   "source": [
    "Drop kolom yang tidak dibutuhkan, yakni kolom \"customer_zip_code_prefix\" dan \"customer_state\" karena saya hanya membutuhkan informasi nama kota, bukan kode zip maupun nama negara bagian"
   ]
  },
  {
   "cell_type": "code",
   "execution_count": 32,
   "metadata": {},
   "outputs": [],
   "source": [
    "customers_orders_df = customers_orders_df.drop(['customer_zip_code_prefix', 'customer_state'], axis=1)"
   ]
  },
  {
   "cell_type": "code",
   "execution_count": 33,
   "metadata": {},
   "outputs": [
    {
     "data": {
      "text/html": [
       "<div>\n",
       "<style scoped>\n",
       "    .dataframe tbody tr th:only-of-type {\n",
       "        vertical-align: middle;\n",
       "    }\n",
       "\n",
       "    .dataframe tbody tr th {\n",
       "        vertical-align: top;\n",
       "    }\n",
       "\n",
       "    .dataframe thead th {\n",
       "        text-align: right;\n",
       "    }\n",
       "</style>\n",
       "<table border=\"1\" class=\"dataframe\">\n",
       "  <thead>\n",
       "    <tr style=\"text-align: right;\">\n",
       "      <th></th>\n",
       "      <th>customer_id</th>\n",
       "      <th>customer_unique_id</th>\n",
       "      <th>customer_city</th>\n",
       "      <th>order_id</th>\n",
       "      <th>order_delivered_customer_date</th>\n",
       "      <th>year</th>\n",
       "      <th>month</th>\n",
       "    </tr>\n",
       "  </thead>\n",
       "  <tbody>\n",
       "    <tr>\n",
       "      <th>0</th>\n",
       "      <td>06b8999e2fba1a1fbc88172c00ba8bc7</td>\n",
       "      <td>861eff4711a542e4b93843c6dd7febb0</td>\n",
       "      <td>franca</td>\n",
       "      <td>00e7ee1b050b8499577073aeb2a297a1</td>\n",
       "      <td>2017-05-25 10:35:35</td>\n",
       "      <td>2017.0</td>\n",
       "      <td>May</td>\n",
       "    </tr>\n",
       "    <tr>\n",
       "      <th>1</th>\n",
       "      <td>18955e83d337fd6b2def6b18a428ac77</td>\n",
       "      <td>290c77bc529b7ac935b93aa66c333dc3</td>\n",
       "      <td>sao bernardo do campo</td>\n",
       "      <td>29150127e6685892b6eab3eec79f59c7</td>\n",
       "      <td>2018-01-29 12:41:19</td>\n",
       "      <td>2018.0</td>\n",
       "      <td>January</td>\n",
       "    </tr>\n",
       "    <tr>\n",
       "      <th>2</th>\n",
       "      <td>4e7b3e00288586ebd08712fdd0374a03</td>\n",
       "      <td>060e732b5b29e8181a18229c7b0b2b5e</td>\n",
       "      <td>sao paulo</td>\n",
       "      <td>b2059ed67ce144a36e2aa97d2c9e9ad2</td>\n",
       "      <td>2018-06-14 17:58:51</td>\n",
       "      <td>2018.0</td>\n",
       "      <td>June</td>\n",
       "    </tr>\n",
       "    <tr>\n",
       "      <th>3</th>\n",
       "      <td>b2b6027bc5c5109e529d4dc6358b12c3</td>\n",
       "      <td>259dac757896d24d7702b9acbbff3f3c</td>\n",
       "      <td>mogi das cruzes</td>\n",
       "      <td>951670f92359f4fe4a63112aa7306eba</td>\n",
       "      <td>2018-03-28 16:04:25</td>\n",
       "      <td>2018.0</td>\n",
       "      <td>March</td>\n",
       "    </tr>\n",
       "    <tr>\n",
       "      <th>4</th>\n",
       "      <td>4f2d8ab171c80ec8364f7c12e35b23ad</td>\n",
       "      <td>345ecd01c38d18a9036ed96c73b8d066</td>\n",
       "      <td>campinas</td>\n",
       "      <td>6b7d50bd145f6fc7f33cebabd7e49d0f</td>\n",
       "      <td>2018-08-09 20:55:48</td>\n",
       "      <td>2018.0</td>\n",
       "      <td>August</td>\n",
       "    </tr>\n",
       "  </tbody>\n",
       "</table>\n",
       "</div>"
      ],
      "text/plain": [
       "                        customer_id                customer_unique_id  \\\n",
       "0  06b8999e2fba1a1fbc88172c00ba8bc7  861eff4711a542e4b93843c6dd7febb0   \n",
       "1  18955e83d337fd6b2def6b18a428ac77  290c77bc529b7ac935b93aa66c333dc3   \n",
       "2  4e7b3e00288586ebd08712fdd0374a03  060e732b5b29e8181a18229c7b0b2b5e   \n",
       "3  b2b6027bc5c5109e529d4dc6358b12c3  259dac757896d24d7702b9acbbff3f3c   \n",
       "4  4f2d8ab171c80ec8364f7c12e35b23ad  345ecd01c38d18a9036ed96c73b8d066   \n",
       "\n",
       "           customer_city                          order_id  \\\n",
       "0                 franca  00e7ee1b050b8499577073aeb2a297a1   \n",
       "1  sao bernardo do campo  29150127e6685892b6eab3eec79f59c7   \n",
       "2              sao paulo  b2059ed67ce144a36e2aa97d2c9e9ad2   \n",
       "3        mogi das cruzes  951670f92359f4fe4a63112aa7306eba   \n",
       "4               campinas  6b7d50bd145f6fc7f33cebabd7e49d0f   \n",
       "\n",
       "  order_delivered_customer_date    year    month  \n",
       "0           2017-05-25 10:35:35  2017.0      May  \n",
       "1           2018-01-29 12:41:19  2018.0  January  \n",
       "2           2018-06-14 17:58:51  2018.0     June  \n",
       "3           2018-03-28 16:04:25  2018.0    March  \n",
       "4           2018-08-09 20:55:48  2018.0   August  "
      ]
     },
     "execution_count": 33,
     "metadata": {},
     "output_type": "execute_result"
    }
   ],
   "source": [
    "customers_orders_df.head()"
   ]
  },
  {
   "cell_type": "markdown",
   "metadata": {},
   "source": [
    "#### Karena analisis hanya dilakukan secara spesifik pada rentang tahun 2017, maka saya hanya akan mengambil record data yang sesuai dengan rentang waktu tersebut"
   ]
  },
  {
   "cell_type": "code",
   "execution_count": 34,
   "metadata": {},
   "outputs": [
    {
     "name": "stdout",
     "output_type": "stream",
     "text": [
      "<class 'pandas.core.frame.DataFrame'>\n",
      "RangeIndex: 99441 entries, 0 to 99440\n",
      "Data columns (total 7 columns):\n",
      " #   Column                         Non-Null Count  Dtype         \n",
      "---  ------                         --------------  -----         \n",
      " 0   customer_id                    99441 non-null  object        \n",
      " 1   customer_unique_id             99441 non-null  object        \n",
      " 2   customer_city                  99441 non-null  object        \n",
      " 3   order_id                       99441 non-null  object        \n",
      " 4   order_delivered_customer_date  96476 non-null  datetime64[ns]\n",
      " 5   year                           96476 non-null  float64       \n",
      " 6   month                          96476 non-null  object        \n",
      "dtypes: datetime64[ns](1), float64(1), object(5)\n",
      "memory usage: 5.3+ MB\n"
     ]
    }
   ],
   "source": [
    "customers_orders_df.info()"
   ]
  },
  {
   "cell_type": "code",
   "execution_count": 35,
   "metadata": {},
   "outputs": [],
   "source": [
    "customers_orders_df = customers_orders_df[customers_orders_df['order_delivered_customer_date'].dt.year == 2017]"
   ]
  },
  {
   "cell_type": "code",
   "execution_count": 36,
   "metadata": {},
   "outputs": [
    {
     "data": {
      "text/html": [
       "<div>\n",
       "<style scoped>\n",
       "    .dataframe tbody tr th:only-of-type {\n",
       "        vertical-align: middle;\n",
       "    }\n",
       "\n",
       "    .dataframe tbody tr th {\n",
       "        vertical-align: top;\n",
       "    }\n",
       "\n",
       "    .dataframe thead th {\n",
       "        text-align: right;\n",
       "    }\n",
       "</style>\n",
       "<table border=\"1\" class=\"dataframe\">\n",
       "  <thead>\n",
       "    <tr style=\"text-align: right;\">\n",
       "      <th></th>\n",
       "      <th>customer_id</th>\n",
       "      <th>customer_unique_id</th>\n",
       "      <th>customer_city</th>\n",
       "      <th>order_id</th>\n",
       "      <th>order_delivered_customer_date</th>\n",
       "      <th>year</th>\n",
       "      <th>month</th>\n",
       "    </tr>\n",
       "  </thead>\n",
       "  <tbody>\n",
       "    <tr>\n",
       "      <th>0</th>\n",
       "      <td>06b8999e2fba1a1fbc88172c00ba8bc7</td>\n",
       "      <td>861eff4711a542e4b93843c6dd7febb0</td>\n",
       "      <td>franca</td>\n",
       "      <td>00e7ee1b050b8499577073aeb2a297a1</td>\n",
       "      <td>2017-05-25 10:35:35</td>\n",
       "      <td>2017.0</td>\n",
       "      <td>May</td>\n",
       "    </tr>\n",
       "    <tr>\n",
       "      <th>5</th>\n",
       "      <td>879864dab9bc3047522c92c82e1212b8</td>\n",
       "      <td>4c93744516667ad3b8f1fb645a3116a4</td>\n",
       "      <td>jaragua do sul</td>\n",
       "      <td>5741ea1f91b5fbab2bd2dc653a5b5099</td>\n",
       "      <td>2017-09-28 17:32:43</td>\n",
       "      <td>2017.0</td>\n",
       "      <td>September</td>\n",
       "    </tr>\n",
       "    <tr>\n",
       "      <th>7</th>\n",
       "      <td>5e274e7a0c3809e14aba7ad5aae0d407</td>\n",
       "      <td>57b2a98a409812fe9618067b6b8ebe4f</td>\n",
       "      <td>timoteo</td>\n",
       "      <td>1093c8304c7a003280dd34598194913d</td>\n",
       "      <td>2017-11-27 12:44:36</td>\n",
       "      <td>2017.0</td>\n",
       "      <td>November</td>\n",
       "    </tr>\n",
       "    <tr>\n",
       "      <th>10</th>\n",
       "      <td>9fb35e4ed6f0a14a4977cd9aea4042bb</td>\n",
       "      <td>2a7745e1ed516b289ed9b29c7d0539a5</td>\n",
       "      <td>montes claros</td>\n",
       "      <td>8428e578bb1cf839ae26a6b7615502b9</td>\n",
       "      <td>2017-12-08 22:16:17</td>\n",
       "      <td>2017.0</td>\n",
       "      <td>December</td>\n",
       "    </tr>\n",
       "    <tr>\n",
       "      <th>12</th>\n",
       "      <td>b2d1536598b73a9abd18e0d75d92f0a3</td>\n",
       "      <td>918dc87cd72cd9f6ed4bd442ed785235</td>\n",
       "      <td>lencois paulista</td>\n",
       "      <td>83d8f70418eefd96f37b483dff430305</td>\n",
       "      <td>2017-09-20 20:23:34</td>\n",
       "      <td>2017.0</td>\n",
       "      <td>September</td>\n",
       "    </tr>\n",
       "  </tbody>\n",
       "</table>\n",
       "</div>"
      ],
      "text/plain": [
       "                         customer_id                customer_unique_id  \\\n",
       "0   06b8999e2fba1a1fbc88172c00ba8bc7  861eff4711a542e4b93843c6dd7febb0   \n",
       "5   879864dab9bc3047522c92c82e1212b8  4c93744516667ad3b8f1fb645a3116a4   \n",
       "7   5e274e7a0c3809e14aba7ad5aae0d407  57b2a98a409812fe9618067b6b8ebe4f   \n",
       "10  9fb35e4ed6f0a14a4977cd9aea4042bb  2a7745e1ed516b289ed9b29c7d0539a5   \n",
       "12  b2d1536598b73a9abd18e0d75d92f0a3  918dc87cd72cd9f6ed4bd442ed785235   \n",
       "\n",
       "       customer_city                          order_id  \\\n",
       "0             franca  00e7ee1b050b8499577073aeb2a297a1   \n",
       "5     jaragua do sul  5741ea1f91b5fbab2bd2dc653a5b5099   \n",
       "7            timoteo  1093c8304c7a003280dd34598194913d   \n",
       "10     montes claros  8428e578bb1cf839ae26a6b7615502b9   \n",
       "12  lencois paulista  83d8f70418eefd96f37b483dff430305   \n",
       "\n",
       "   order_delivered_customer_date    year      month  \n",
       "0            2017-05-25 10:35:35  2017.0        May  \n",
       "5            2017-09-28 17:32:43  2017.0  September  \n",
       "7            2017-11-27 12:44:36  2017.0   November  \n",
       "10           2017-12-08 22:16:17  2017.0   December  \n",
       "12           2017-09-20 20:23:34  2017.0  September  "
      ]
     },
     "execution_count": 36,
     "metadata": {},
     "output_type": "execute_result"
    }
   ],
   "source": [
    "customers_orders_df.head()"
   ]
  },
  {
   "cell_type": "code",
   "execution_count": 37,
   "metadata": {},
   "outputs": [
    {
     "name": "stdout",
     "output_type": "stream",
     "text": [
      "Jumlah order pada bulan Januari: 283\n",
      "Jumlah order pada bulan Februari: 1351\n",
      "Jumlah order pada bulan Maret: 2382\n",
      "Jumlah order pada bulan April: 1849\n",
      "Jumlah order pada bulan Mei: 3751\n",
      "Jumlah order pada bulan Juni: 3223\n",
      "Jumlah order pada bulan Juli: 3455\n",
      "Jumlah order pada bulan Agustus: 4302\n",
      "Jumlah order pada bulan September: 3965\n",
      "Jumlah order pada bulan Oktober: 4494\n",
      "Jumlah order pada bulan November: 4670\n",
      "Jumlah order pada bulan Desember: 7205\n"
     ]
    }
   ],
   "source": [
    "#Mengetahui jumlah data pada setiap bulan\n",
    "jan_orders = customers_orders_df[\n",
    "    (customers_orders_df['order_delivered_customer_date'].dt.year == 2017) & \n",
    "    (customers_orders_df['order_delivered_customer_date'].dt.month == 1)\n",
    "]\n",
    "print(\"Jumlah order pada bulan Januari:\", len(jan_orders))\n",
    "\n",
    "feb_orders = customers_orders_df[\n",
    "    (customers_orders_df['order_delivered_customer_date'].dt.year == 2017) & \n",
    "    (customers_orders_df['order_delivered_customer_date'].dt.month == 2)\n",
    "]\n",
    "print(\"Jumlah order pada bulan Februari:\", len(feb_orders))\n",
    "\n",
    "mar_orders = customers_orders_df[\n",
    "    (customers_orders_df['order_delivered_customer_date'].dt.year == 2017) & \n",
    "    (customers_orders_df['order_delivered_customer_date'].dt.month == 3)\n",
    "]\n",
    "print(\"Jumlah order pada bulan Maret:\", len(mar_orders))\n",
    "\n",
    "apr_orders = customers_orders_df[\n",
    "    (customers_orders_df['order_delivered_customer_date'].dt.year == 2017) & \n",
    "    (customers_orders_df['order_delivered_customer_date'].dt.month == 4)\n",
    "]\n",
    "print(\"Jumlah order pada bulan April:\", len(apr_orders))\n",
    "\n",
    "may_orders = customers_orders_df[\n",
    "    (customers_orders_df['order_delivered_customer_date'].dt.year == 2017) & \n",
    "    (customers_orders_df['order_delivered_customer_date'].dt.month == 5)\n",
    "]\n",
    "print(\"Jumlah order pada bulan Mei:\", len(may_orders))\n",
    "\n",
    "jun_orders = customers_orders_df[\n",
    "    (customers_orders_df['order_delivered_customer_date'].dt.year == 2017) & \n",
    "    (customers_orders_df['order_delivered_customer_date'].dt.month == 6)\n",
    "]\n",
    "print(\"Jumlah order pada bulan Juni:\", len(jun_orders))\n",
    "\n",
    "jul_orders = customers_orders_df[\n",
    "    (customers_orders_df['order_delivered_customer_date'].dt.year == 2017) & \n",
    "    (customers_orders_df['order_delivered_customer_date'].dt.month == 7)\n",
    "]\n",
    "print(\"Jumlah order pada bulan Juli:\", len(jul_orders))\n",
    "\n",
    "aug_orders = customers_orders_df[\n",
    "    (customers_orders_df['order_delivered_customer_date'].dt.year == 2017) & \n",
    "    (customers_orders_df['order_delivered_customer_date'].dt.month == 8)\n",
    "]\n",
    "print(\"Jumlah order pada bulan Agustus:\", len(aug_orders))\n",
    "\n",
    "sep_orders = customers_orders_df[\n",
    "    (customers_orders_df['order_delivered_customer_date'].dt.year == 2017) & \n",
    "    (customers_orders_df['order_delivered_customer_date'].dt.month == 9)\n",
    "]\n",
    "print(\"Jumlah order pada bulan September:\", len(sep_orders))\n",
    "\n",
    "oct_orders = customers_orders_df[\n",
    "    (customers_orders_df['order_delivered_customer_date'].dt.year == 2017) & \n",
    "    (customers_orders_df['order_delivered_customer_date'].dt.month == 10)\n",
    "]\n",
    "print(\"Jumlah order pada bulan Oktober:\", len(oct_orders))\n",
    "\n",
    "nov_orders = customers_orders_df[\n",
    "    (customers_orders_df['order_delivered_customer_date'].dt.year == 2017) & \n",
    "    (customers_orders_df['order_delivered_customer_date'].dt.month == 11)\n",
    "]\n",
    "print(\"Jumlah order pada bulan November:\", len(nov_orders))\n",
    "\n",
    "dec_orders = customers_orders_df[\n",
    "    (customers_orders_df['order_delivered_customer_date'].dt.year == 2017) & \n",
    "    (customers_orders_df['order_delivered_customer_date'].dt.month == 12)\n",
    "]\n",
    "print(\"Jumlah order pada bulan Desember:\", len(dec_orders))"
   ]
  },
  {
   "cell_type": "code",
   "execution_count": 38,
   "metadata": {},
   "outputs": [
    {
     "data": {
      "text/html": [
       "<div>\n",
       "<style scoped>\n",
       "    .dataframe tbody tr th:only-of-type {\n",
       "        vertical-align: middle;\n",
       "    }\n",
       "\n",
       "    .dataframe tbody tr th {\n",
       "        vertical-align: top;\n",
       "    }\n",
       "\n",
       "    .dataframe thead th {\n",
       "        text-align: right;\n",
       "    }\n",
       "</style>\n",
       "<table border=\"1\" class=\"dataframe\">\n",
       "  <thead>\n",
       "    <tr style=\"text-align: right;\">\n",
       "      <th></th>\n",
       "      <th>customer_id</th>\n",
       "      <th>customer_unique_id</th>\n",
       "      <th>customer_city</th>\n",
       "      <th>order_id</th>\n",
       "      <th>order_delivered_customer_date</th>\n",
       "      <th>year</th>\n",
       "      <th>month</th>\n",
       "    </tr>\n",
       "  </thead>\n",
       "  <tbody>\n",
       "    <tr>\n",
       "      <th>count</th>\n",
       "      <td>40930</td>\n",
       "      <td>40930</td>\n",
       "      <td>40930</td>\n",
       "      <td>40930</td>\n",
       "      <td>40930</td>\n",
       "      <td>40930.0</td>\n",
       "      <td>40930</td>\n",
       "    </tr>\n",
       "    <tr>\n",
       "      <th>unique</th>\n",
       "      <td>40930</td>\n",
       "      <td>39705</td>\n",
       "      <td>3156</td>\n",
       "      <td>40930</td>\n",
       "      <td>NaN</td>\n",
       "      <td>NaN</td>\n",
       "      <td>12</td>\n",
       "    </tr>\n",
       "    <tr>\n",
       "      <th>top</th>\n",
       "      <td>274fa6071e5e17fe303b9748641082c8</td>\n",
       "      <td>8d50f5eadf50201ccdcedfb9e2ac8455</td>\n",
       "      <td>sao paulo</td>\n",
       "      <td>28db69209a75e59f20ccbb5c36a20b90</td>\n",
       "      <td>NaN</td>\n",
       "      <td>NaN</td>\n",
       "      <td>December</td>\n",
       "    </tr>\n",
       "    <tr>\n",
       "      <th>freq</th>\n",
       "      <td>1</td>\n",
       "      <td>8</td>\n",
       "      <td>5959</td>\n",
       "      <td>1</td>\n",
       "      <td>NaN</td>\n",
       "      <td>NaN</td>\n",
       "      <td>7205</td>\n",
       "    </tr>\n",
       "    <tr>\n",
       "      <th>mean</th>\n",
       "      <td>NaN</td>\n",
       "      <td>NaN</td>\n",
       "      <td>NaN</td>\n",
       "      <td>NaN</td>\n",
       "      <td>2017-08-20 23:37:33.197850112</td>\n",
       "      <td>2017.0</td>\n",
       "      <td>NaN</td>\n",
       "    </tr>\n",
       "    <tr>\n",
       "      <th>min</th>\n",
       "      <td>NaN</td>\n",
       "      <td>NaN</td>\n",
       "      <td>NaN</td>\n",
       "      <td>NaN</td>\n",
       "      <td>2017-01-11 13:14:05</td>\n",
       "      <td>2017.0</td>\n",
       "      <td>NaN</td>\n",
       "    </tr>\n",
       "    <tr>\n",
       "      <th>25%</th>\n",
       "      <td>NaN</td>\n",
       "      <td>NaN</td>\n",
       "      <td>NaN</td>\n",
       "      <td>NaN</td>\n",
       "      <td>2017-06-06 16:58:51.500000</td>\n",
       "      <td>2017.0</td>\n",
       "      <td>NaN</td>\n",
       "    </tr>\n",
       "    <tr>\n",
       "      <th>50%</th>\n",
       "      <td>NaN</td>\n",
       "      <td>NaN</td>\n",
       "      <td>NaN</td>\n",
       "      <td>NaN</td>\n",
       "      <td>2017-08-31 16:45:34</td>\n",
       "      <td>2017.0</td>\n",
       "      <td>NaN</td>\n",
       "    </tr>\n",
       "    <tr>\n",
       "      <th>75%</th>\n",
       "      <td>NaN</td>\n",
       "      <td>NaN</td>\n",
       "      <td>NaN</td>\n",
       "      <td>NaN</td>\n",
       "      <td>2017-11-13 23:36:12.500000</td>\n",
       "      <td>2017.0</td>\n",
       "      <td>NaN</td>\n",
       "    </tr>\n",
       "    <tr>\n",
       "      <th>max</th>\n",
       "      <td>NaN</td>\n",
       "      <td>NaN</td>\n",
       "      <td>NaN</td>\n",
       "      <td>NaN</td>\n",
       "      <td>2017-12-31 15:19:16</td>\n",
       "      <td>2017.0</td>\n",
       "      <td>NaN</td>\n",
       "    </tr>\n",
       "    <tr>\n",
       "      <th>std</th>\n",
       "      <td>NaN</td>\n",
       "      <td>NaN</td>\n",
       "      <td>NaN</td>\n",
       "      <td>NaN</td>\n",
       "      <td>NaN</td>\n",
       "      <td>0.0</td>\n",
       "      <td>NaN</td>\n",
       "    </tr>\n",
       "  </tbody>\n",
       "</table>\n",
       "</div>"
      ],
      "text/plain": [
       "                             customer_id                customer_unique_id  \\\n",
       "count                              40930                             40930   \n",
       "unique                             40930                             39705   \n",
       "top     274fa6071e5e17fe303b9748641082c8  8d50f5eadf50201ccdcedfb9e2ac8455   \n",
       "freq                                   1                                 8   \n",
       "mean                                 NaN                               NaN   \n",
       "min                                  NaN                               NaN   \n",
       "25%                                  NaN                               NaN   \n",
       "50%                                  NaN                               NaN   \n",
       "75%                                  NaN                               NaN   \n",
       "max                                  NaN                               NaN   \n",
       "std                                  NaN                               NaN   \n",
       "\n",
       "       customer_city                          order_id  \\\n",
       "count          40930                             40930   \n",
       "unique          3156                             40930   \n",
       "top        sao paulo  28db69209a75e59f20ccbb5c36a20b90   \n",
       "freq            5959                                 1   \n",
       "mean             NaN                               NaN   \n",
       "min              NaN                               NaN   \n",
       "25%              NaN                               NaN   \n",
       "50%              NaN                               NaN   \n",
       "75%              NaN                               NaN   \n",
       "max              NaN                               NaN   \n",
       "std              NaN                               NaN   \n",
       "\n",
       "        order_delivered_customer_date     year     month  \n",
       "count                           40930  40930.0     40930  \n",
       "unique                            NaN      NaN        12  \n",
       "top                               NaN      NaN  December  \n",
       "freq                              NaN      NaN      7205  \n",
       "mean    2017-08-20 23:37:33.197850112   2017.0       NaN  \n",
       "min               2017-01-11 13:14:05   2017.0       NaN  \n",
       "25%        2017-06-06 16:58:51.500000   2017.0       NaN  \n",
       "50%               2017-08-31 16:45:34   2017.0       NaN  \n",
       "75%        2017-11-13 23:36:12.500000   2017.0       NaN  \n",
       "max               2017-12-31 15:19:16   2017.0       NaN  \n",
       "std                               NaN      0.0       NaN  "
      ]
     },
     "execution_count": 38,
     "metadata": {},
     "output_type": "execute_result"
    }
   ],
   "source": [
    "customers_orders_df.describe(include=\"all\")"
   ]
  },
  {
   "cell_type": "markdown",
   "metadata": {},
   "source": [
    "Data berhasil diekstrak. Sekarang, dataset hanya terdiri dari data pesanan di tahun 2017"
   ]
  },
  {
   "cell_type": "markdown",
   "metadata": {},
   "source": [
    "#### Sekarang saya akan mencari tahu pada setiap bulannya, kota mana yang paling banyak melakukan pembelian "
   ]
  },
  {
   "cell_type": "code",
   "execution_count": 39,
   "metadata": {},
   "outputs": [
    {
     "data": {
      "image/png": "[encoded data removed]",
      "text/plain": [
       "<Figure size 1200x800 with 1 Axes>"
      ]
     },
     "metadata": {},
     "output_type": "display_data"
    }
   ],
   "source": [
    "# Mengelompokkan data berdasarkan bulan dan kota, menghitung jumlah order\n",
    "grouped = customers_orders_df.groupby(['month', 'customer_city']).size().reset_index(name='order_count')\n",
    "\n",
    "# Mencari dua kota dengan order terbanyak di setiap bulan\n",
    "top_cities_per_month = (\n",
    "    grouped.sort_values('order_count', ascending=False)\n",
    "    .groupby('month')\n",
    "    .head(2)\n",
    ")\n",
    "\n",
    "# Mengurutkan bulan agar tampil dari Januari ke Desember\n",
    "month_order = ['January', 'February', 'March', 'April', 'May', 'June', \n",
    "               'July', 'August', 'September', 'October', 'November', 'December']\n",
    "top_cities_per_month['month'] = pd.Categorical(top_cities_per_month['month'], categories=month_order, ordered=True)\n",
    "\n",
    "# Mengurutkan berdasarkan bulan dan order_count (descending)\n",
    "top_cities_per_month = top_cities_per_month.sort_values(by=['month', 'order_count'], ascending=[True, False])\n",
    "\n",
    "# Visualisasi\n",
    "plt.figure(figsize=(12, 8))\n",
    "sns.barplot(data=top_cities_per_month, x='month', y='order_count', hue='customer_city')\n",
    "plt.title('Top 2 Kota dengan Jumlah Order Terbanyak di Setiap Bulan Tahun 2016')\n",
    "plt.xlabel('Bulan')\n",
    "plt.ylabel('Jumlah Order')\n",
    "plt.xticks(rotation=45)\n",
    "plt.legend(title='Kota', bbox_to_anchor=(1.05, 1), loc='upper left')\n",
    "plt.tight_layout()\n",
    "plt.show()"
   ]
  },
  {
   "cell_type": "markdown",
   "metadata": {},
   "source": [
    "**Insights:** \n",
    "- Dari gambar, terlihat bahwa di Bulan Januari, top 2 kota yang paling banyak melakukan pembelian adalah Sao Paulo (1) dan Curitiba (2)\n",
    "- Sementara itu pada Bulan Februari dan seterusnya, kota yang paling banyak melakukan pembelian adalah Sao Paulo (1) dan Rio de Janeiro (2)\n",
    "- Sao Paulo selalu menjadi kota dengan total pembelian paling banyak berturut-turut selama 12 bulan"
   ]
  },
  {
   "cell_type": "markdown",
   "metadata": {
    "id": "MW7WF2kr8DC1"
   },
   "source": [
    "### Explore order_items_df"
   ]
  },
  {
   "cell_type": "code",
   "execution_count": 40,
   "metadata": {},
   "outputs": [],
   "source": [
    "order_items_df_2 = order_items_df.copy()"
   ]
  },
  {
   "cell_type": "markdown",
   "metadata": {},
   "source": [
    "#### Saya akan menggabungkan dataset \"customers_orders_df\" dengan \"order_items_df_2\""
   ]
  },
  {
   "cell_type": "markdown",
   "metadata": {},
   "source": [
    "Langkah ini bertujuan untuk memasukkan kolom \"product_id\" dari tabel \"order_items_df\" ke dalam tabel \"customers_orders_df\""
   ]
  },
  {
   "cell_type": "code",
   "execution_count": 41,
   "metadata": {},
   "outputs": [
    {
     "data": {
      "text/html": [
       "<div>\n",
       "<style scoped>\n",
       "    .dataframe tbody tr th:only-of-type {\n",
       "        vertical-align: middle;\n",
       "    }\n",
       "\n",
       "    .dataframe tbody tr th {\n",
       "        vertical-align: top;\n",
       "    }\n",
       "\n",
       "    .dataframe thead th {\n",
       "        text-align: right;\n",
       "    }\n",
       "</style>\n",
       "<table border=\"1\" class=\"dataframe\">\n",
       "  <thead>\n",
       "    <tr style=\"text-align: right;\">\n",
       "      <th></th>\n",
       "      <th>order_id</th>\n",
       "      <th>order_item_id</th>\n",
       "      <th>product_id</th>\n",
       "      <th>seller_id</th>\n",
       "      <th>shipping_limit_date</th>\n",
       "      <th>price</th>\n",
       "      <th>freight_value</th>\n",
       "    </tr>\n",
       "  </thead>\n",
       "  <tbody>\n",
       "    <tr>\n",
       "      <th>0</th>\n",
       "      <td>00010242fe8c5a6d1ba2dd792cb16214</td>\n",
       "      <td>1</td>\n",
       "      <td>4244733e06e7ecb4970a6e2683c13e61</td>\n",
       "      <td>48436dade18ac8b2bce089ec2a041202</td>\n",
       "      <td>2017-09-19 09:45:35</td>\n",
       "      <td>58.90</td>\n",
       "      <td>13.29</td>\n",
       "    </tr>\n",
       "    <tr>\n",
       "      <th>1</th>\n",
       "      <td>00018f77f2f0320c557190d7a144bdd3</td>\n",
       "      <td>1</td>\n",
       "      <td>e5f2d52b802189ee658865ca93d83a8f</td>\n",
       "      <td>dd7ddc04e1b6c2c614352b383efe2d36</td>\n",
       "      <td>2017-05-03 11:05:13</td>\n",
       "      <td>239.90</td>\n",
       "      <td>19.93</td>\n",
       "    </tr>\n",
       "    <tr>\n",
       "      <th>2</th>\n",
       "      <td>000229ec398224ef6ca0657da4fc703e</td>\n",
       "      <td>1</td>\n",
       "      <td>c777355d18b72b67abbeef9df44fd0fd</td>\n",
       "      <td>5b51032eddd242adc84c38acab88f23d</td>\n",
       "      <td>2018-01-18 14:48:30</td>\n",
       "      <td>199.00</td>\n",
       "      <td>17.87</td>\n",
       "    </tr>\n",
       "    <tr>\n",
       "      <th>3</th>\n",
       "      <td>00024acbcdf0a6daa1e931b038114c75</td>\n",
       "      <td>1</td>\n",
       "      <td>7634da152a4610f1595efa32f14722fc</td>\n",
       "      <td>9d7a1d34a5052409006425275ba1c2b4</td>\n",
       "      <td>2018-08-15 10:10:18</td>\n",
       "      <td>12.99</td>\n",
       "      <td>12.79</td>\n",
       "    </tr>\n",
       "    <tr>\n",
       "      <th>4</th>\n",
       "      <td>00042b26cf59d7ce69dfabb4e55b4fd9</td>\n",
       "      <td>1</td>\n",
       "      <td>ac6c3623068f30de03045865e4e10089</td>\n",
       "      <td>df560393f3a51e74553ab94004ba5c87</td>\n",
       "      <td>2017-02-13 13:57:51</td>\n",
       "      <td>199.90</td>\n",
       "      <td>18.14</td>\n",
       "    </tr>\n",
       "  </tbody>\n",
       "</table>\n",
       "</div>"
      ],
      "text/plain": [
       "                           order_id  order_item_id  \\\n",
       "0  00010242fe8c5a6d1ba2dd792cb16214              1   \n",
       "1  00018f77f2f0320c557190d7a144bdd3              1   \n",
       "2  000229ec398224ef6ca0657da4fc703e              1   \n",
       "3  00024acbcdf0a6daa1e931b038114c75              1   \n",
       "4  00042b26cf59d7ce69dfabb4e55b4fd9              1   \n",
       "\n",
       "                         product_id                         seller_id  \\\n",
       "0  4244733e06e7ecb4970a6e2683c13e61  48436dade18ac8b2bce089ec2a041202   \n",
       "1  e5f2d52b802189ee658865ca93d83a8f  dd7ddc04e1b6c2c614352b383efe2d36   \n",
       "2  c777355d18b72b67abbeef9df44fd0fd  5b51032eddd242adc84c38acab88f23d   \n",
       "3  7634da152a4610f1595efa32f14722fc  9d7a1d34a5052409006425275ba1c2b4   \n",
       "4  ac6c3623068f30de03045865e4e10089  df560393f3a51e74553ab94004ba5c87   \n",
       "\n",
       "  shipping_limit_date   price  freight_value  \n",
       "0 2017-09-19 09:45:35   58.90          13.29  \n",
       "1 2017-05-03 11:05:13  239.90          19.93  \n",
       "2 2018-01-18 14:48:30  199.00          17.87  \n",
       "3 2018-08-15 10:10:18   12.99          12.79  \n",
       "4 2017-02-13 13:57:51  199.90          18.14  "
      ]
     },
     "execution_count": 41,
     "metadata": {},
     "output_type": "execute_result"
    }
   ],
   "source": [
    "order_items_df_2.head()"
   ]
  },
  {
   "cell_type": "code",
   "execution_count": 42,
   "metadata": {},
   "outputs": [
    {
     "data": {
      "text/html": [
       "<div>\n",
       "<style scoped>\n",
       "    .dataframe tbody tr th:only-of-type {\n",
       "        vertical-align: middle;\n",
       "    }\n",
       "\n",
       "    .dataframe tbody tr th {\n",
       "        vertical-align: top;\n",
       "    }\n",
       "\n",
       "    .dataframe thead th {\n",
       "        text-align: right;\n",
       "    }\n",
       "</style>\n",
       "<table border=\"1\" class=\"dataframe\">\n",
       "  <thead>\n",
       "    <tr style=\"text-align: right;\">\n",
       "      <th></th>\n",
       "      <th>customer_id</th>\n",
       "      <th>customer_unique_id</th>\n",
       "      <th>customer_city</th>\n",
       "      <th>order_id</th>\n",
       "      <th>order_delivered_customer_date</th>\n",
       "      <th>year</th>\n",
       "      <th>month</th>\n",
       "    </tr>\n",
       "  </thead>\n",
       "  <tbody>\n",
       "    <tr>\n",
       "      <th>0</th>\n",
       "      <td>06b8999e2fba1a1fbc88172c00ba8bc7</td>\n",
       "      <td>861eff4711a542e4b93843c6dd7febb0</td>\n",
       "      <td>franca</td>\n",
       "      <td>00e7ee1b050b8499577073aeb2a297a1</td>\n",
       "      <td>2017-05-25 10:35:35</td>\n",
       "      <td>2017.0</td>\n",
       "      <td>May</td>\n",
       "    </tr>\n",
       "    <tr>\n",
       "      <th>5</th>\n",
       "      <td>879864dab9bc3047522c92c82e1212b8</td>\n",
       "      <td>4c93744516667ad3b8f1fb645a3116a4</td>\n",
       "      <td>jaragua do sul</td>\n",
       "      <td>5741ea1f91b5fbab2bd2dc653a5b5099</td>\n",
       "      <td>2017-09-28 17:32:43</td>\n",
       "      <td>2017.0</td>\n",
       "      <td>September</td>\n",
       "    </tr>\n",
       "    <tr>\n",
       "      <th>7</th>\n",
       "      <td>5e274e7a0c3809e14aba7ad5aae0d407</td>\n",
       "      <td>57b2a98a409812fe9618067b6b8ebe4f</td>\n",
       "      <td>timoteo</td>\n",
       "      <td>1093c8304c7a003280dd34598194913d</td>\n",
       "      <td>2017-11-27 12:44:36</td>\n",
       "      <td>2017.0</td>\n",
       "      <td>November</td>\n",
       "    </tr>\n",
       "    <tr>\n",
       "      <th>10</th>\n",
       "      <td>9fb35e4ed6f0a14a4977cd9aea4042bb</td>\n",
       "      <td>2a7745e1ed516b289ed9b29c7d0539a5</td>\n",
       "      <td>montes claros</td>\n",
       "      <td>8428e578bb1cf839ae26a6b7615502b9</td>\n",
       "      <td>2017-12-08 22:16:17</td>\n",
       "      <td>2017.0</td>\n",
       "      <td>December</td>\n",
       "    </tr>\n",
       "    <tr>\n",
       "      <th>12</th>\n",
       "      <td>b2d1536598b73a9abd18e0d75d92f0a3</td>\n",
       "      <td>918dc87cd72cd9f6ed4bd442ed785235</td>\n",
       "      <td>lencois paulista</td>\n",
       "      <td>83d8f70418eefd96f37b483dff430305</td>\n",
       "      <td>2017-09-20 20:23:34</td>\n",
       "      <td>2017.0</td>\n",
       "      <td>September</td>\n",
       "    </tr>\n",
       "  </tbody>\n",
       "</table>\n",
       "</div>"
      ],
      "text/plain": [
       "                         customer_id                customer_unique_id  \\\n",
       "0   06b8999e2fba1a1fbc88172c00ba8bc7  861eff4711a542e4b93843c6dd7febb0   \n",
       "5   879864dab9bc3047522c92c82e1212b8  4c93744516667ad3b8f1fb645a3116a4   \n",
       "7   5e274e7a0c3809e14aba7ad5aae0d407  57b2a98a409812fe9618067b6b8ebe4f   \n",
       "10  9fb35e4ed6f0a14a4977cd9aea4042bb  2a7745e1ed516b289ed9b29c7d0539a5   \n",
       "12  b2d1536598b73a9abd18e0d75d92f0a3  918dc87cd72cd9f6ed4bd442ed785235   \n",
       "\n",
       "       customer_city                          order_id  \\\n",
       "0             franca  00e7ee1b050b8499577073aeb2a297a1   \n",
       "5     jaragua do sul  5741ea1f91b5fbab2bd2dc653a5b5099   \n",
       "7            timoteo  1093c8304c7a003280dd34598194913d   \n",
       "10     montes claros  8428e578bb1cf839ae26a6b7615502b9   \n",
       "12  lencois paulista  83d8f70418eefd96f37b483dff430305   \n",
       "\n",
       "   order_delivered_customer_date    year      month  \n",
       "0            2017-05-25 10:35:35  2017.0        May  \n",
       "5            2017-09-28 17:32:43  2017.0  September  \n",
       "7            2017-11-27 12:44:36  2017.0   November  \n",
       "10           2017-12-08 22:16:17  2017.0   December  \n",
       "12           2017-09-20 20:23:34  2017.0  September  "
      ]
     },
     "execution_count": 42,
     "metadata": {},
     "output_type": "execute_result"
    }
   ],
   "source": [
    "customers_orders_df.head()"
   ]
  },
  {
   "cell_type": "code",
   "execution_count": 43,
   "metadata": {},
   "outputs": [
    {
     "data": {
      "text/html": [
       "<div>\n",
       "<style scoped>\n",
       "    .dataframe tbody tr th:only-of-type {\n",
       "        vertical-align: middle;\n",
       "    }\n",
       "\n",
       "    .dataframe tbody tr th {\n",
       "        vertical-align: top;\n",
       "    }\n",
       "\n",
       "    .dataframe thead th {\n",
       "        text-align: right;\n",
       "    }\n",
       "</style>\n",
       "<table border=\"1\" class=\"dataframe\">\n",
       "  <thead>\n",
       "    <tr style=\"text-align: right;\">\n",
       "      <th></th>\n",
       "      <th>customer_id</th>\n",
       "      <th>customer_unique_id</th>\n",
       "      <th>customer_city</th>\n",
       "      <th>order_id</th>\n",
       "      <th>order_delivered_customer_date</th>\n",
       "      <th>year</th>\n",
       "      <th>month</th>\n",
       "      <th>order_item_id</th>\n",
       "      <th>product_id</th>\n",
       "      <th>seller_id</th>\n",
       "      <th>shipping_limit_date</th>\n",
       "      <th>price</th>\n",
       "      <th>freight_value</th>\n",
       "    </tr>\n",
       "  </thead>\n",
       "  <tbody>\n",
       "    <tr>\n",
       "      <th>0</th>\n",
       "      <td>06b8999e2fba1a1fbc88172c00ba8bc7</td>\n",
       "      <td>861eff4711a542e4b93843c6dd7febb0</td>\n",
       "      <td>franca</td>\n",
       "      <td>00e7ee1b050b8499577073aeb2a297a1</td>\n",
       "      <td>2017-05-25 10:35:35</td>\n",
       "      <td>2017.0</td>\n",
       "      <td>May</td>\n",
       "      <td>1</td>\n",
       "      <td>a9516a079e37a9c9c36b9b78b10169e8</td>\n",
       "      <td>7c67e1448b00f6e969d365cea6b010ab</td>\n",
       "      <td>2017-05-22 15:22:12</td>\n",
       "      <td>124.99</td>\n",
       "      <td>21.88</td>\n",
       "    </tr>\n",
       "    <tr>\n",
       "      <th>1</th>\n",
       "      <td>879864dab9bc3047522c92c82e1212b8</td>\n",
       "      <td>4c93744516667ad3b8f1fb645a3116a4</td>\n",
       "      <td>jaragua do sul</td>\n",
       "      <td>5741ea1f91b5fbab2bd2dc653a5b5099</td>\n",
       "      <td>2017-09-28 17:32:43</td>\n",
       "      <td>2017.0</td>\n",
       "      <td>September</td>\n",
       "      <td>1</td>\n",
       "      <td>0be701e03657109a8a4d5168122777fb</td>\n",
       "      <td>8f2ce03f928b567e3d56181ae20ae952</td>\n",
       "      <td>2017-09-20 18:25:11</td>\n",
       "      <td>259.90</td>\n",
       "      <td>22.31</td>\n",
       "    </tr>\n",
       "    <tr>\n",
       "      <th>2</th>\n",
       "      <td>5e274e7a0c3809e14aba7ad5aae0d407</td>\n",
       "      <td>57b2a98a409812fe9618067b6b8ebe4f</td>\n",
       "      <td>timoteo</td>\n",
       "      <td>1093c8304c7a003280dd34598194913d</td>\n",
       "      <td>2017-11-27 12:44:36</td>\n",
       "      <td>2017.0</td>\n",
       "      <td>November</td>\n",
       "      <td>1</td>\n",
       "      <td>124f74f703e88efe001a10bfa718b6ff</td>\n",
       "      <td>2a7dc43cecabf23403078e2188437d1d</td>\n",
       "      <td>2017-11-22 19:55:41</td>\n",
       "      <td>19.90</td>\n",
       "      <td>16.11</td>\n",
       "    </tr>\n",
       "    <tr>\n",
       "      <th>3</th>\n",
       "      <td>9fb35e4ed6f0a14a4977cd9aea4042bb</td>\n",
       "      <td>2a7745e1ed516b289ed9b29c7d0539a5</td>\n",
       "      <td>montes claros</td>\n",
       "      <td>8428e578bb1cf839ae26a6b7615502b9</td>\n",
       "      <td>2017-12-08 22:16:17</td>\n",
       "      <td>2017.0</td>\n",
       "      <td>December</td>\n",
       "      <td>1</td>\n",
       "      <td>6b874ff4c71d18e91079b40396bf176a</td>\n",
       "      <td>b6e1504972665f739dec4facb9943775</td>\n",
       "      <td>2017-12-01 18:01:20</td>\n",
       "      <td>25.30</td>\n",
       "      <td>15.10</td>\n",
       "    </tr>\n",
       "    <tr>\n",
       "      <th>4</th>\n",
       "      <td>b2d1536598b73a9abd18e0d75d92f0a3</td>\n",
       "      <td>918dc87cd72cd9f6ed4bd442ed785235</td>\n",
       "      <td>lencois paulista</td>\n",
       "      <td>83d8f70418eefd96f37b483dff430305</td>\n",
       "      <td>2017-09-20 20:23:34</td>\n",
       "      <td>2017.0</td>\n",
       "      <td>September</td>\n",
       "      <td>1</td>\n",
       "      <td>3fc00af0f0a8d4ac2933d3900416c977</td>\n",
       "      <td>7a241947449cc45dbfda4f9d0798d9d0</td>\n",
       "      <td>2017-09-14 10:10:17</td>\n",
       "      <td>99.00</td>\n",
       "      <td>18.31</td>\n",
       "    </tr>\n",
       "  </tbody>\n",
       "</table>\n",
       "</div>"
      ],
      "text/plain": [
       "                        customer_id                customer_unique_id  \\\n",
       "0  06b8999e2fba1a1fbc88172c00ba8bc7  861eff4711a542e4b93843c6dd7febb0   \n",
       "1  879864dab9bc3047522c92c82e1212b8  4c93744516667ad3b8f1fb645a3116a4   \n",
       "2  5e274e7a0c3809e14aba7ad5aae0d407  57b2a98a409812fe9618067b6b8ebe4f   \n",
       "3  9fb35e4ed6f0a14a4977cd9aea4042bb  2a7745e1ed516b289ed9b29c7d0539a5   \n",
       "4  b2d1536598b73a9abd18e0d75d92f0a3  918dc87cd72cd9f6ed4bd442ed785235   \n",
       "\n",
       "      customer_city                          order_id  \\\n",
       "0            franca  00e7ee1b050b8499577073aeb2a297a1   \n",
       "1    jaragua do sul  5741ea1f91b5fbab2bd2dc653a5b5099   \n",
       "2           timoteo  1093c8304c7a003280dd34598194913d   \n",
       "3     montes claros  8428e578bb1cf839ae26a6b7615502b9   \n",
       "4  lencois paulista  83d8f70418eefd96f37b483dff430305   \n",
       "\n",
       "  order_delivered_customer_date    year      month  order_item_id  \\\n",
       "0           2017-05-25 10:35:35  2017.0        May              1   \n",
       "1           2017-09-28 17:32:43  2017.0  September              1   \n",
       "2           2017-11-27 12:44:36  2017.0   November              1   \n",
       "3           2017-12-08 22:16:17  2017.0   December              1   \n",
       "4           2017-09-20 20:23:34  2017.0  September              1   \n",
       "\n",
       "                         product_id                         seller_id  \\\n",
       "0  a9516a079e37a9c9c36b9b78b10169e8  7c67e1448b00f6e969d365cea6b010ab   \n",
       "1  0be701e03657109a8a4d5168122777fb  8f2ce03f928b567e3d56181ae20ae952   \n",
       "2  124f74f703e88efe001a10bfa718b6ff  2a7dc43cecabf23403078e2188437d1d   \n",
       "3  6b874ff4c71d18e91079b40396bf176a  b6e1504972665f739dec4facb9943775   \n",
       "4  3fc00af0f0a8d4ac2933d3900416c977  7a241947449cc45dbfda4f9d0798d9d0   \n",
       "\n",
       "  shipping_limit_date   price  freight_value  \n",
       "0 2017-05-22 15:22:12  124.99          21.88  \n",
       "1 2017-09-20 18:25:11  259.90          22.31  \n",
       "2 2017-11-22 19:55:41   19.90          16.11  \n",
       "3 2017-12-01 18:01:20   25.30          15.10  \n",
       "4 2017-09-14 10:10:17   99.00          18.31  "
      ]
     },
     "execution_count": 43,
     "metadata": {},
     "output_type": "execute_result"
    }
   ],
   "source": [
    "customers_orders_df = pd.merge(\n",
    "    left=customers_orders_df,\n",
    "    right=order_items_df_2,\n",
    "    how=\"left\",\n",
    "    left_on=\"order_id\",\n",
    "    right_on=\"order_id\"\n",
    ")\n",
    "customers_orders_df.head()"
   ]
  },
  {
   "cell_type": "markdown",
   "metadata": {},
   "source": [
    "Selanjutnya, saya akan melakukan dropping pada variabel-variabel yang tidak akan dilibatkan dalam analisis ini"
   ]
  },
  {
   "cell_type": "code",
   "execution_count": 44,
   "metadata": {},
   "outputs": [],
   "source": [
    "customers_orders_df = customers_orders_df.drop(['order_item_id', 'seller_id', 'shipping_limit_date', 'price', 'freight_value'], axis=1)"
   ]
  },
  {
   "cell_type": "code",
   "execution_count": 45,
   "metadata": {},
   "outputs": [
    {
     "name": "stdout",
     "output_type": "stream",
     "text": [
      "<class 'pandas.core.frame.DataFrame'>\n",
      "RangeIndex: 46803 entries, 0 to 46802\n",
      "Data columns (total 8 columns):\n",
      " #   Column                         Non-Null Count  Dtype         \n",
      "---  ------                         --------------  -----         \n",
      " 0   customer_id                    46803 non-null  object        \n",
      " 1   customer_unique_id             46803 non-null  object        \n",
      " 2   customer_city                  46803 non-null  object        \n",
      " 3   order_id                       46803 non-null  object        \n",
      " 4   order_delivered_customer_date  46803 non-null  datetime64[ns]\n",
      " 5   year                           46803 non-null  float64       \n",
      " 6   month                          46803 non-null  object        \n",
      " 7   product_id                     46803 non-null  object        \n",
      "dtypes: datetime64[ns](1), float64(1), object(6)\n",
      "memory usage: 2.9+ MB\n"
     ]
    }
   ],
   "source": [
    "customers_orders_df.info()"
   ]
  },
  {
   "cell_type": "markdown",
   "metadata": {
    "id": "MW7WF2kr8DC1"
   },
   "source": [
    "### Explore products_df"
   ]
  },
  {
   "cell_type": "code",
   "execution_count": 46,
   "metadata": {},
   "outputs": [],
   "source": [
    "products_df_2 = products_df.copy()"
   ]
  },
  {
   "cell_type": "markdown",
   "metadata": {},
   "source": [
    "#### Saya akan menggabungkan dataset \"customers_orders_df\" dengan \"products_df_2\""
   ]
  },
  {
   "cell_type": "code",
   "execution_count": 47,
   "metadata": {},
   "outputs": [
    {
     "data": {
      "text/html": [
       "<div>\n",
       "<style scoped>\n",
       "    .dataframe tbody tr th:only-of-type {\n",
       "        vertical-align: middle;\n",
       "    }\n",
       "\n",
       "    .dataframe tbody tr th {\n",
       "        vertical-align: top;\n",
       "    }\n",
       "\n",
       "    .dataframe thead th {\n",
       "        text-align: right;\n",
       "    }\n",
       "</style>\n",
       "<table border=\"1\" class=\"dataframe\">\n",
       "  <thead>\n",
       "    <tr style=\"text-align: right;\">\n",
       "      <th></th>\n",
       "      <th>product_id</th>\n",
       "      <th>product_category_name</th>\n",
       "      <th>product_name_lenght</th>\n",
       "      <th>product_description_lenght</th>\n",
       "      <th>product_photos_qty</th>\n",
       "      <th>product_weight_g</th>\n",
       "      <th>product_length_cm</th>\n",
       "      <th>product_height_cm</th>\n",
       "      <th>product_width_cm</th>\n",
       "    </tr>\n",
       "  </thead>\n",
       "  <tbody>\n",
       "    <tr>\n",
       "      <th>0</th>\n",
       "      <td>1e9e8ef04dbcff4541ed26657ea517e5</td>\n",
       "      <td>perfumaria</td>\n",
       "      <td>40.0</td>\n",
       "      <td>287.0</td>\n",
       "      <td>1.0</td>\n",
       "      <td>225.0</td>\n",
       "      <td>16.0</td>\n",
       "      <td>10.0</td>\n",
       "      <td>14.0</td>\n",
       "    </tr>\n",
       "    <tr>\n",
       "      <th>1</th>\n",
       "      <td>3aa071139cb16b67ca9e5dea641aaa2f</td>\n",
       "      <td>artes</td>\n",
       "      <td>44.0</td>\n",
       "      <td>276.0</td>\n",
       "      <td>1.0</td>\n",
       "      <td>1000.0</td>\n",
       "      <td>30.0</td>\n",
       "      <td>18.0</td>\n",
       "      <td>20.0</td>\n",
       "    </tr>\n",
       "    <tr>\n",
       "      <th>2</th>\n",
       "      <td>96bd76ec8810374ed1b65e291975717f</td>\n",
       "      <td>esporte_lazer</td>\n",
       "      <td>46.0</td>\n",
       "      <td>250.0</td>\n",
       "      <td>1.0</td>\n",
       "      <td>154.0</td>\n",
       "      <td>18.0</td>\n",
       "      <td>9.0</td>\n",
       "      <td>15.0</td>\n",
       "    </tr>\n",
       "    <tr>\n",
       "      <th>3</th>\n",
       "      <td>cef67bcfe19066a932b7673e239eb23d</td>\n",
       "      <td>bebes</td>\n",
       "      <td>27.0</td>\n",
       "      <td>261.0</td>\n",
       "      <td>1.0</td>\n",
       "      <td>371.0</td>\n",
       "      <td>26.0</td>\n",
       "      <td>4.0</td>\n",
       "      <td>26.0</td>\n",
       "    </tr>\n",
       "    <tr>\n",
       "      <th>4</th>\n",
       "      <td>9dc1a7de274444849c219cff195d0b71</td>\n",
       "      <td>utilidades_domesticas</td>\n",
       "      <td>37.0</td>\n",
       "      <td>402.0</td>\n",
       "      <td>4.0</td>\n",
       "      <td>625.0</td>\n",
       "      <td>20.0</td>\n",
       "      <td>17.0</td>\n",
       "      <td>13.0</td>\n",
       "    </tr>\n",
       "  </tbody>\n",
       "</table>\n",
       "</div>"
      ],
      "text/plain": [
       "                         product_id  product_category_name  \\\n",
       "0  1e9e8ef04dbcff4541ed26657ea517e5             perfumaria   \n",
       "1  3aa071139cb16b67ca9e5dea641aaa2f                  artes   \n",
       "2  96bd76ec8810374ed1b65e291975717f          esporte_lazer   \n",
       "3  cef67bcfe19066a932b7673e239eb23d                  bebes   \n",
       "4  9dc1a7de274444849c219cff195d0b71  utilidades_domesticas   \n",
       "\n",
       "   product_name_lenght  product_description_lenght  product_photos_qty  \\\n",
       "0                 40.0                       287.0                 1.0   \n",
       "1                 44.0                       276.0                 1.0   \n",
       "2                 46.0                       250.0                 1.0   \n",
       "3                 27.0                       261.0                 1.0   \n",
       "4                 37.0                       402.0                 4.0   \n",
       "\n",
       "   product_weight_g  product_length_cm  product_height_cm  product_width_cm  \n",
       "0             225.0               16.0               10.0              14.0  \n",
       "1            1000.0               30.0               18.0              20.0  \n",
       "2             154.0               18.0                9.0              15.0  \n",
       "3             371.0               26.0                4.0              26.0  \n",
       "4             625.0               20.0               17.0              13.0  "
      ]
     },
     "execution_count": 47,
     "metadata": {},
     "output_type": "execute_result"
    }
   ],
   "source": [
    "products_df_2.head()"
   ]
  },
  {
   "cell_type": "markdown",
   "metadata": {},
   "source": [
    "Langkah ini bertujuan untuk memasukkan kolom \"product_category_name\" dalam tabel \"products_df\" ke dalam tabel \"customers_orders_df\" berdasarkan \"product_id\""
   ]
  },
  {
   "cell_type": "code",
   "execution_count": 48,
   "metadata": {},
   "outputs": [
    {
     "data": {
      "text/html": [
       "<div>\n",
       "<style scoped>\n",
       "    .dataframe tbody tr th:only-of-type {\n",
       "        vertical-align: middle;\n",
       "    }\n",
       "\n",
       "    .dataframe tbody tr th {\n",
       "        vertical-align: top;\n",
       "    }\n",
       "\n",
       "    .dataframe thead th {\n",
       "        text-align: right;\n",
       "    }\n",
       "</style>\n",
       "<table border=\"1\" class=\"dataframe\">\n",
       "  <thead>\n",
       "    <tr style=\"text-align: right;\">\n",
       "      <th></th>\n",
       "      <th>customer_id</th>\n",
       "      <th>customer_unique_id</th>\n",
       "      <th>customer_city</th>\n",
       "      <th>order_id</th>\n",
       "      <th>order_delivered_customer_date</th>\n",
       "      <th>year</th>\n",
       "      <th>month</th>\n",
       "      <th>product_id</th>\n",
       "      <th>product_category_name</th>\n",
       "      <th>product_name_lenght</th>\n",
       "      <th>product_description_lenght</th>\n",
       "      <th>product_photos_qty</th>\n",
       "      <th>product_weight_g</th>\n",
       "      <th>product_length_cm</th>\n",
       "      <th>product_height_cm</th>\n",
       "      <th>product_width_cm</th>\n",
       "    </tr>\n",
       "  </thead>\n",
       "  <tbody>\n",
       "    <tr>\n",
       "      <th>0</th>\n",
       "      <td>06b8999e2fba1a1fbc88172c00ba8bc7</td>\n",
       "      <td>861eff4711a542e4b93843c6dd7febb0</td>\n",
       "      <td>franca</td>\n",
       "      <td>00e7ee1b050b8499577073aeb2a297a1</td>\n",
       "      <td>2017-05-25 10:35:35</td>\n",
       "      <td>2017.0</td>\n",
       "      <td>May</td>\n",
       "      <td>a9516a079e37a9c9c36b9b78b10169e8</td>\n",
       "      <td>moveis_escritorio</td>\n",
       "      <td>41.0</td>\n",
       "      <td>1141.0</td>\n",
       "      <td>1.0</td>\n",
       "      <td>8683.0</td>\n",
       "      <td>54.0</td>\n",
       "      <td>64.0</td>\n",
       "      <td>31.0</td>\n",
       "    </tr>\n",
       "    <tr>\n",
       "      <th>1</th>\n",
       "      <td>879864dab9bc3047522c92c82e1212b8</td>\n",
       "      <td>4c93744516667ad3b8f1fb645a3116a4</td>\n",
       "      <td>jaragua do sul</td>\n",
       "      <td>5741ea1f91b5fbab2bd2dc653a5b5099</td>\n",
       "      <td>2017-09-28 17:32:43</td>\n",
       "      <td>2017.0</td>\n",
       "      <td>September</td>\n",
       "      <td>0be701e03657109a8a4d5168122777fb</td>\n",
       "      <td>esporte_lazer</td>\n",
       "      <td>32.0</td>\n",
       "      <td>282.0</td>\n",
       "      <td>2.0</td>\n",
       "      <td>4450.0</td>\n",
       "      <td>60.0</td>\n",
       "      <td>15.0</td>\n",
       "      <td>15.0</td>\n",
       "    </tr>\n",
       "    <tr>\n",
       "      <th>2</th>\n",
       "      <td>5e274e7a0c3809e14aba7ad5aae0d407</td>\n",
       "      <td>57b2a98a409812fe9618067b6b8ebe4f</td>\n",
       "      <td>timoteo</td>\n",
       "      <td>1093c8304c7a003280dd34598194913d</td>\n",
       "      <td>2017-11-27 12:44:36</td>\n",
       "      <td>2017.0</td>\n",
       "      <td>November</td>\n",
       "      <td>124f74f703e88efe001a10bfa718b6ff</td>\n",
       "      <td>NaN</td>\n",
       "      <td>NaN</td>\n",
       "      <td>NaN</td>\n",
       "      <td>NaN</td>\n",
       "      <td>NaN</td>\n",
       "      <td>NaN</td>\n",
       "      <td>NaN</td>\n",
       "      <td>NaN</td>\n",
       "    </tr>\n",
       "    <tr>\n",
       "      <th>3</th>\n",
       "      <td>9fb35e4ed6f0a14a4977cd9aea4042bb</td>\n",
       "      <td>2a7745e1ed516b289ed9b29c7d0539a5</td>\n",
       "      <td>montes claros</td>\n",
       "      <td>8428e578bb1cf839ae26a6b7615502b9</td>\n",
       "      <td>2017-12-08 22:16:17</td>\n",
       "      <td>2017.0</td>\n",
       "      <td>December</td>\n",
       "      <td>6b874ff4c71d18e91079b40396bf176a</td>\n",
       "      <td>automotivo</td>\n",
       "      <td>41.0</td>\n",
       "      <td>1117.0</td>\n",
       "      <td>8.0</td>\n",
       "      <td>300.0</td>\n",
       "      <td>31.0</td>\n",
       "      <td>17.0</td>\n",
       "      <td>27.0</td>\n",
       "    </tr>\n",
       "    <tr>\n",
       "      <th>4</th>\n",
       "      <td>b2d1536598b73a9abd18e0d75d92f0a3</td>\n",
       "      <td>918dc87cd72cd9f6ed4bd442ed785235</td>\n",
       "      <td>lencois paulista</td>\n",
       "      <td>83d8f70418eefd96f37b483dff430305</td>\n",
       "      <td>2017-09-20 20:23:34</td>\n",
       "      <td>2017.0</td>\n",
       "      <td>September</td>\n",
       "      <td>3fc00af0f0a8d4ac2933d3900416c977</td>\n",
       "      <td>climatizacao</td>\n",
       "      <td>59.0</td>\n",
       "      <td>624.0</td>\n",
       "      <td>5.0</td>\n",
       "      <td>2000.0</td>\n",
       "      <td>20.0</td>\n",
       "      <td>10.0</td>\n",
       "      <td>20.0</td>\n",
       "    </tr>\n",
       "  </tbody>\n",
       "</table>\n",
       "</div>"
      ],
      "text/plain": [
       "                        customer_id                customer_unique_id  \\\n",
       "0  06b8999e2fba1a1fbc88172c00ba8bc7  861eff4711a542e4b93843c6dd7febb0   \n",
       "1  879864dab9bc3047522c92c82e1212b8  4c93744516667ad3b8f1fb645a3116a4   \n",
       "2  5e274e7a0c3809e14aba7ad5aae0d407  57b2a98a409812fe9618067b6b8ebe4f   \n",
       "3  9fb35e4ed6f0a14a4977cd9aea4042bb  2a7745e1ed516b289ed9b29c7d0539a5   \n",
       "4  b2d1536598b73a9abd18e0d75d92f0a3  918dc87cd72cd9f6ed4bd442ed785235   \n",
       "\n",
       "      customer_city                          order_id  \\\n",
       "0            franca  00e7ee1b050b8499577073aeb2a297a1   \n",
       "1    jaragua do sul  5741ea1f91b5fbab2bd2dc653a5b5099   \n",
       "2           timoteo  1093c8304c7a003280dd34598194913d   \n",
       "3     montes claros  8428e578bb1cf839ae26a6b7615502b9   \n",
       "4  lencois paulista  83d8f70418eefd96f37b483dff430305   \n",
       "\n",
       "  order_delivered_customer_date    year      month  \\\n",
       "0           2017-05-25 10:35:35  2017.0        May   \n",
       "1           2017-09-28 17:32:43  2017.0  September   \n",
       "2           2017-11-27 12:44:36  2017.0   November   \n",
       "3           2017-12-08 22:16:17  2017.0   December   \n",
       "4           2017-09-20 20:23:34  2017.0  September   \n",
       "\n",
       "                         product_id product_category_name  \\\n",
       "0  a9516a079e37a9c9c36b9b78b10169e8     moveis_escritorio   \n",
       "1  0be701e03657109a8a4d5168122777fb         esporte_lazer   \n",
       "2  124f74f703e88efe001a10bfa718b6ff                   NaN   \n",
       "3  6b874ff4c71d18e91079b40396bf176a            automotivo   \n",
       "4  3fc00af0f0a8d4ac2933d3900416c977          climatizacao   \n",
       "\n",
       "   product_name_lenght  product_description_lenght  product_photos_qty  \\\n",
       "0                 41.0                      1141.0                 1.0   \n",
       "1                 32.0                       282.0                 2.0   \n",
       "2                  NaN                         NaN                 NaN   \n",
       "3                 41.0                      1117.0                 8.0   \n",
       "4                 59.0                       624.0                 5.0   \n",
       "\n",
       "   product_weight_g  product_length_cm  product_height_cm  product_width_cm  \n",
       "0            8683.0               54.0               64.0              31.0  \n",
       "1            4450.0               60.0               15.0              15.0  \n",
       "2               NaN                NaN                NaN               NaN  \n",
       "3             300.0               31.0               17.0              27.0  \n",
       "4            2000.0               20.0               10.0              20.0  "
      ]
     },
     "execution_count": 48,
     "metadata": {},
     "output_type": "execute_result"
    }
   ],
   "source": [
    "customers_orders_df = pd.merge(\n",
    "    left=customers_orders_df,\n",
    "    right=products_df_2,\n",
    "    how=\"left\",\n",
    "    left_on=\"product_id\",\n",
    "    right_on=\"product_id\"\n",
    ")\n",
    "customers_orders_df.head()"
   ]
  },
  {
   "cell_type": "markdown",
   "metadata": {},
   "source": [
    "Lakukan dropping pada variabel yang tidak terpakai"
   ]
  },
  {
   "cell_type": "code",
   "execution_count": 49,
   "metadata": {},
   "outputs": [],
   "source": [
    "customers_orders_df = customers_orders_df.drop(['product_name_lenght', 'product_description_lenght', 'product_photos_qty', 'product_weight_g', 'product_length_cm', 'product_height_cm', 'product_width_cm'], axis=1)"
   ]
  },
  {
   "cell_type": "code",
   "execution_count": 50,
   "metadata": {},
   "outputs": [
    {
     "name": "stdout",
     "output_type": "stream",
     "text": [
      "<class 'pandas.core.frame.DataFrame'>\n",
      "RangeIndex: 46803 entries, 0 to 46802\n",
      "Data columns (total 9 columns):\n",
      " #   Column                         Non-Null Count  Dtype         \n",
      "---  ------                         --------------  -----         \n",
      " 0   customer_id                    46803 non-null  object        \n",
      " 1   customer_unique_id             46803 non-null  object        \n",
      " 2   customer_city                  46803 non-null  object        \n",
      " 3   order_id                       46803 non-null  object        \n",
      " 4   order_delivered_customer_date  46803 non-null  datetime64[ns]\n",
      " 5   year                           46803 non-null  float64       \n",
      " 6   month                          46803 non-null  object        \n",
      " 7   product_id                     46803 non-null  object        \n",
      " 8   product_category_name          45994 non-null  object        \n",
      "dtypes: datetime64[ns](1), float64(1), object(7)\n",
      "memory usage: 3.2+ MB\n"
     ]
    }
   ],
   "source": [
    "customers_orders_df.info()"
   ]
  },
  {
   "cell_type": "markdown",
   "metadata": {},
   "source": [
    "#### Menambahkan Nama Kategori Produk Versi Bahasa Inggris"
   ]
  },
  {
   "cell_type": "markdown",
   "metadata": {},
   "source": [
    "Penggabungan dua dataset tersebut didasarkan pada \"product_category_name\" "
   ]
  },
  {
   "cell_type": "code",
   "execution_count": 51,
   "metadata": {},
   "outputs": [
    {
     "data": {
      "text/html": [
       "<div>\n",
       "<style scoped>\n",
       "    .dataframe tbody tr th:only-of-type {\n",
       "        vertical-align: middle;\n",
       "    }\n",
       "\n",
       "    .dataframe tbody tr th {\n",
       "        vertical-align: top;\n",
       "    }\n",
       "\n",
       "    .dataframe thead th {\n",
       "        text-align: right;\n",
       "    }\n",
       "</style>\n",
       "<table border=\"1\" class=\"dataframe\">\n",
       "  <thead>\n",
       "    <tr style=\"text-align: right;\">\n",
       "      <th></th>\n",
       "      <th>customer_id</th>\n",
       "      <th>customer_unique_id</th>\n",
       "      <th>customer_city</th>\n",
       "      <th>order_id</th>\n",
       "      <th>order_delivered_customer_date</th>\n",
       "      <th>year</th>\n",
       "      <th>month</th>\n",
       "      <th>product_id</th>\n",
       "      <th>product_category_name</th>\n",
       "      <th>product_category_name_english</th>\n",
       "    </tr>\n",
       "  </thead>\n",
       "  <tbody>\n",
       "    <tr>\n",
       "      <th>0</th>\n",
       "      <td>06b8999e2fba1a1fbc88172c00ba8bc7</td>\n",
       "      <td>861eff4711a542e4b93843c6dd7febb0</td>\n",
       "      <td>franca</td>\n",
       "      <td>00e7ee1b050b8499577073aeb2a297a1</td>\n",
       "      <td>2017-05-25 10:35:35</td>\n",
       "      <td>2017.0</td>\n",
       "      <td>May</td>\n",
       "      <td>a9516a079e37a9c9c36b9b78b10169e8</td>\n",
       "      <td>moveis_escritorio</td>\n",
       "      <td>office_furniture</td>\n",
       "    </tr>\n",
       "    <tr>\n",
       "      <th>1</th>\n",
       "      <td>879864dab9bc3047522c92c82e1212b8</td>\n",
       "      <td>4c93744516667ad3b8f1fb645a3116a4</td>\n",
       "      <td>jaragua do sul</td>\n",
       "      <td>5741ea1f91b5fbab2bd2dc653a5b5099</td>\n",
       "      <td>2017-09-28 17:32:43</td>\n",
       "      <td>2017.0</td>\n",
       "      <td>September</td>\n",
       "      <td>0be701e03657109a8a4d5168122777fb</td>\n",
       "      <td>esporte_lazer</td>\n",
       "      <td>sports_leisure</td>\n",
       "    </tr>\n",
       "    <tr>\n",
       "      <th>2</th>\n",
       "      <td>5e274e7a0c3809e14aba7ad5aae0d407</td>\n",
       "      <td>57b2a98a409812fe9618067b6b8ebe4f</td>\n",
       "      <td>timoteo</td>\n",
       "      <td>1093c8304c7a003280dd34598194913d</td>\n",
       "      <td>2017-11-27 12:44:36</td>\n",
       "      <td>2017.0</td>\n",
       "      <td>November</td>\n",
       "      <td>124f74f703e88efe001a10bfa718b6ff</td>\n",
       "      <td>NaN</td>\n",
       "      <td>NaN</td>\n",
       "    </tr>\n",
       "    <tr>\n",
       "      <th>3</th>\n",
       "      <td>9fb35e4ed6f0a14a4977cd9aea4042bb</td>\n",
       "      <td>2a7745e1ed516b289ed9b29c7d0539a5</td>\n",
       "      <td>montes claros</td>\n",
       "      <td>8428e578bb1cf839ae26a6b7615502b9</td>\n",
       "      <td>2017-12-08 22:16:17</td>\n",
       "      <td>2017.0</td>\n",
       "      <td>December</td>\n",
       "      <td>6b874ff4c71d18e91079b40396bf176a</td>\n",
       "      <td>automotivo</td>\n",
       "      <td>auto</td>\n",
       "    </tr>\n",
       "    <tr>\n",
       "      <th>4</th>\n",
       "      <td>b2d1536598b73a9abd18e0d75d92f0a3</td>\n",
       "      <td>918dc87cd72cd9f6ed4bd442ed785235</td>\n",
       "      <td>lencois paulista</td>\n",
       "      <td>83d8f70418eefd96f37b483dff430305</td>\n",
       "      <td>2017-09-20 20:23:34</td>\n",
       "      <td>2017.0</td>\n",
       "      <td>September</td>\n",
       "      <td>3fc00af0f0a8d4ac2933d3900416c977</td>\n",
       "      <td>climatizacao</td>\n",
       "      <td>air_conditioning</td>\n",
       "    </tr>\n",
       "  </tbody>\n",
       "</table>\n",
       "</div>"
      ],
      "text/plain": [
       "                        customer_id                customer_unique_id  \\\n",
       "0  06b8999e2fba1a1fbc88172c00ba8bc7  861eff4711a542e4b93843c6dd7febb0   \n",
       "1  879864dab9bc3047522c92c82e1212b8  4c93744516667ad3b8f1fb645a3116a4   \n",
       "2  5e274e7a0c3809e14aba7ad5aae0d407  57b2a98a409812fe9618067b6b8ebe4f   \n",
       "3  9fb35e4ed6f0a14a4977cd9aea4042bb  2a7745e1ed516b289ed9b29c7d0539a5   \n",
       "4  b2d1536598b73a9abd18e0d75d92f0a3  918dc87cd72cd9f6ed4bd442ed785235   \n",
       "\n",
       "      customer_city                          order_id  \\\n",
       "0            franca  00e7ee1b050b8499577073aeb2a297a1   \n",
       "1    jaragua do sul  5741ea1f91b5fbab2bd2dc653a5b5099   \n",
       "2           timoteo  1093c8304c7a003280dd34598194913d   \n",
       "3     montes claros  8428e578bb1cf839ae26a6b7615502b9   \n",
       "4  lencois paulista  83d8f70418eefd96f37b483dff430305   \n",
       "\n",
       "  order_delivered_customer_date    year      month  \\\n",
       "0           2017-05-25 10:35:35  2017.0        May   \n",
       "1           2017-09-28 17:32:43  2017.0  September   \n",
       "2           2017-11-27 12:44:36  2017.0   November   \n",
       "3           2017-12-08 22:16:17  2017.0   December   \n",
       "4           2017-09-20 20:23:34  2017.0  September   \n",
       "\n",
       "                         product_id product_category_name  \\\n",
       "0  a9516a079e37a9c9c36b9b78b10169e8     moveis_escritorio   \n",
       "1  0be701e03657109a8a4d5168122777fb         esporte_lazer   \n",
       "2  124f74f703e88efe001a10bfa718b6ff                   NaN   \n",
       "3  6b874ff4c71d18e91079b40396bf176a            automotivo   \n",
       "4  3fc00af0f0a8d4ac2933d3900416c977          climatizacao   \n",
       "\n",
       "  product_category_name_english  \n",
       "0              office_furniture  \n",
       "1                sports_leisure  \n",
       "2                           NaN  \n",
       "3                          auto  \n",
       "4              air_conditioning  "
      ]
     },
     "execution_count": 51,
     "metadata": {},
     "output_type": "execute_result"
    }
   ],
   "source": [
    "q2_df = pd.merge(\n",
    "    left=customers_orders_df,\n",
    "    right=product_category_name_translation_df,\n",
    "    how=\"left\",\n",
    "    left_on=\"product_category_name\",\n",
    "    right_on=\"product_category_name\"\n",
    ")\n",
    "q2_df.head()"
   ]
  },
  {
   "cell_type": "markdown",
   "metadata": {},
   "source": [
    "Ini adalah dataset yang sudah final dan akan digunakan dalam menjawab pertanyaan 2"
   ]
  },
  {
   "cell_type": "code",
   "execution_count": 52,
   "metadata": {},
   "outputs": [
    {
     "name": "stdout",
     "output_type": "stream",
     "text": [
      "<class 'pandas.core.frame.DataFrame'>\n",
      "RangeIndex: 46803 entries, 0 to 46802\n",
      "Data columns (total 10 columns):\n",
      " #   Column                         Non-Null Count  Dtype         \n",
      "---  ------                         --------------  -----         \n",
      " 0   customer_id                    46803 non-null  object        \n",
      " 1   customer_unique_id             46803 non-null  object        \n",
      " 2   customer_city                  46803 non-null  object        \n",
      " 3   order_id                       46803 non-null  object        \n",
      " 4   order_delivered_customer_date  46803 non-null  datetime64[ns]\n",
      " 5   year                           46803 non-null  float64       \n",
      " 6   month                          46803 non-null  object        \n",
      " 7   product_id                     46803 non-null  object        \n",
      " 8   product_category_name          45994 non-null  object        \n",
      " 9   product_category_name_english  45990 non-null  object        \n",
      "dtypes: datetime64[ns](1), float64(1), object(8)\n",
      "memory usage: 3.6+ MB\n"
     ]
    }
   ],
   "source": [
    "q2_df.info()"
   ]
  },
  {
   "cell_type": "markdown",
   "metadata": {},
   "source": [
    "#### Lakukan sedikit cleaning pada dataset yang sudah final"
   ]
  },
  {
   "cell_type": "code",
   "execution_count": 53,
   "metadata": {},
   "outputs": [
    {
     "name": "stdout",
     "output_type": "stream",
     "text": [
      "Kolom dengan nilai duplikat: ['customer_id', 'customer_unique_id', 'customer_city', 'order_id', 'order_delivered_customer_date', 'year', 'month', 'product_id', 'product_category_name', 'product_category_name_english']\n",
      "Jumlah duplikasi:  0\n"
     ]
    }
   ],
   "source": [
    "#handling missing value\n",
    "q2_df.isna().sum()\n",
    "q2_df = q2_df.dropna()\n",
    "q2_df.head()\n",
    "\n",
    "#handling duplicates\n",
    "# Mengecek kolom yang memiliki nilai duplikat\n",
    "duplicate_columns = q2_df.columns[q2_df.apply(lambda x: x.duplicated().any())]\n",
    "print(\"Kolom dengan nilai duplikat:\", duplicate_columns.tolist())\n",
    "# Menghapus baris dengan customer_id duplikat\n",
    "q2_df = q2_df.drop_duplicates(subset='customer_id', keep='first')\n",
    "# Memeriksa kembali jumlah duplicates\n",
    "print(\"Jumlah duplikasi: \", q2_df.duplicated().sum())"
   ]
  },
  {
   "cell_type": "code",
   "execution_count": 54,
   "metadata": {},
   "outputs": [
    {
     "name": "stdout",
     "output_type": "stream",
     "text": [
      "<class 'pandas.core.frame.DataFrame'>\n",
      "Index: 40238 entries, 0 to 46802\n",
      "Data columns (total 10 columns):\n",
      " #   Column                         Non-Null Count  Dtype         \n",
      "---  ------                         --------------  -----         \n",
      " 0   customer_id                    40238 non-null  object        \n",
      " 1   customer_unique_id             40238 non-null  object        \n",
      " 2   customer_city                  40238 non-null  object        \n",
      " 3   order_id                       40238 non-null  object        \n",
      " 4   order_delivered_customer_date  40238 non-null  datetime64[ns]\n",
      " 5   year                           40238 non-null  float64       \n",
      " 6   month                          40238 non-null  object        \n",
      " 7   product_id                     40238 non-null  object        \n",
      " 8   product_category_name          40238 non-null  object        \n",
      " 9   product_category_name_english  40238 non-null  object        \n",
      "dtypes: datetime64[ns](1), float64(1), object(8)\n",
      "memory usage: 3.4+ MB\n"
     ]
    }
   ],
   "source": [
    "q2_df.info()"
   ]
  },
  {
   "cell_type": "markdown",
   "metadata": {
    "id": "zsyZjqak8DC2"
   },
   "source": [
    "## Visualization & Explanatory Analysis"
   ]
  },
  {
   "cell_type": "markdown",
   "metadata": {
    "id": "HZxOiQ6n8DC2"
   },
   "source": [
    "### Pertanyaan 1: Bagaimana tren harga dan tingkat penjualan dari kategori kategori produk Health & Beauty dalam rentang tahun Oktober 2016 – Oktober 2018?"
   ]
  },
  {
   "cell_type": "code",
   "execution_count": 55,
   "metadata": {},
   "outputs": [
    {
     "name": "stderr",
     "output_type": "stream",
     "text": [
      "C:\\Users\\USER\\AppData\\Local\\Temp\\ipykernel_2612\\2318565827.py:9: SettingWithCopyWarning: \n",
      "A value is trying to be set on a copy of a slice from a DataFrame.\n",
      "Try using .loc[row_indexer,col_indexer] = value instead\n",
      "\n",
      "See the caveats in the documentation: https://pandas.pydata.org/pandas-docs/stable/user_guide/indexing.html#returning-a-view-versus-a-copy\n",
      "  health_beauty_df['order_delivered_customer_date'] = pd.to_datetime(health_beauty_df['order_delivered_customer_date'])\n"
     ]
    },
    {
     "data": {
      "image/png": "[encoded data removed]",
      "text/plain": [
       "<Figure size 1200x600 with 2 Axes>"
      ]
     },
     "metadata": {},
     "output_type": "display_data"
    }
   ],
   "source": [
    "import pandas as pd\n",
    "import matplotlib.pyplot as plt\n",
    "\n",
    "# Asumsi q1_df sudah ada dan berisi kolom 'price' dan 'order_purchase_timestamp'\n",
    "# Filter data untuk kategori 'health_beauty'\n",
    "health_beauty_df = q1_df[q1_df['product_category_name_english'] == 'health_beauty']\n",
    "\n",
    "# Konversi kolom tanggal menjadi datetime\n",
    "health_beauty_df['order_delivered_customer_date'] = pd.to_datetime(health_beauty_df['order_delivered_customer_date'])\n",
    "\n",
    "# Filter data untuk rentang waktu Oktober 2016 - Oktober 2018\n",
    "mask = (health_beauty_df['order_delivered_customer_date'] >= '2016-10-01') & (health_beauty_df['order_delivered_customer_date'] <= '2018-10-31')\n",
    "filtered_df = health_beauty_df[mask]\n",
    "\n",
    "# Membuat kolom baru untuk bulan\n",
    "filtered_df['month_year'] = filtered_df['order_delivered_customer_date'].dt.to_period('M')\n",
    "\n",
    "# Menghitung total penjualan dan harga rata-rata per bulan\n",
    "monthly_sales = filtered_df.groupby('month_year').size()\n",
    "monthly_avg_price = filtered_df.groupby('month_year')['price'].mean()\n",
    "\n",
    "# Plotting histogram untuk tingkat penjualan dan line plot untuk harga rata-rata\n",
    "fig, ax1 = plt.subplots(figsize=(12, 6))\n",
    "\n",
    "# Histogram untuk tingkat penjualan\n",
    "ax1.bar(monthly_sales.index.astype(str), monthly_sales, color='lightblue', label='Sales')\n",
    "ax1.set_xlabel('Bulan')\n",
    "ax1.set_ylabel('Jumlah Penjualan', color='blue')\n",
    "ax1.tick_params(axis='y', labelcolor='blue')\n",
    "\n",
    "# Atur label sumbu X agar lebih kecil dan tidak overlap\n",
    "plt.xticks(rotation=90, fontsize=8)\n",
    "\n",
    "# Line plot untuk fluktuasi harga rata-rata\n",
    "ax2 = ax1.twinx()\n",
    "ax2.plot(monthly_avg_price.index.astype(str), monthly_avg_price, color='red', label='Average Price', linewidth=2)\n",
    "ax2.set_ylabel('Rata-rata Harga (Harga)', color='red')\n",
    "ax2.tick_params(axis='y', labelcolor='red')\n",
    "\n",
    "# Tambahkan judul\n",
    "plt.title('Jumlah Penjualan dan Fluktuasi Harga pada Kategori Barang Health & Beauty (Oct 2016 - Oct 2018)')\n",
    "\n",
    "# Tampilkan grafik\n",
    "plt.tight_layout()\n",
    "plt.show()"
   ]
  },
  {
   "cell_type": "markdown",
   "metadata": {},
   "source": [
    "#### Explanatory Analysis"
   ]
  },
  {
   "cell_type": "markdown",
   "metadata": {},
   "source": [
    "Grafik di atas menampilkan bar chart dengan sebuah line chart di atasnya. Rentang bulan yang tercatat adalah dari Oktober 2016 - Oktober 2018. Gambar tersebut menampilkan jumlah penjualan (bar chart) dan fluktuasi harga (line chart)\n",
    "\n",
    "- Terlihat bahwa penjualan secara keseluruhan cenderung meningkat seiring waktu, dengan beberapa fluktuasi di bulan-bulan tertentu.\n",
    "- Penjualan tertinggi dicapai pada bulan September 2018, yang menunjukkan lonjakan mendadak di akhir periode.\n",
    "- Harga menunjukkan fluktuasi besar-besaran pada awal periode, dengan lonjakan yang sangat terlihat pada Januari 2017 di mana harga mencapai puncaknya. Namun, harga mulai turun setelahnya, diikuti dengan stabilisasi di pertengahan 2017 hingga awal 2018. Pada akhir periode, harga kembali melonjak drastis di September 2018, yang bersamaan dengan peningkatan tajam dalam penjualan.\n",
    "\n",
    "Dari gambar tersebut, sering kali terdapat hubungan yang berbanding terbalik antara harga dengan jumlah penjualan, di mana saat harga tinggi, penjualan akan menurun. Contohnya yang ada pada bulan Januari tahun 2017. Saat harga turun, penjualan kembali meningkat. Dan pola ini terjadi lagi pada September 2018 di mana harga sangat tinggi dan produk yang terjual berkurang. Namun, pada beberapa periode lain, hubungan ini tidak selalu konstan. Sebagai contoh, pada Mei 2017, harga turun dan penjualan meningkat, yang sejalan dengan pola tersebut. Akan tetapi, menjelang akhir 2018, baik harga maupun penjualan mengalami peningkatan yang signifikan secara bersamaan, yang menandakan adanya kemungkinan faktor lain yang mempengaruhi penjualan di luar harga."
   ]
  },
  {
   "cell_type": "markdown",
   "metadata": {
    "id": "DgHI7CiU8DC2"
   },
   "source": [
    "### Pertanyaan 2: Berdasarkan informasi penjualan di sepanjang tahun 2017, kota apa yang menduduki record penjualan terbanyak dan kategori produk apa yang paling banyak terjual pada waktu tersebut?"
   ]
  },
  {
   "cell_type": "code",
   "execution_count": 56,
   "metadata": {},
   "outputs": [
    {
     "data": {
      "image/png": "[encoded data removed]",
      "text/plain": [
       "<Figure size 1400x800 with 1 Axes>"
      ]
     },
     "metadata": {},
     "output_type": "display_data"
    }
   ],
   "source": [
    "import pandas as pd\n",
    "import matplotlib.pyplot as plt\n",
    "import seaborn as sns\n",
    "\n",
    "# Mengambil data untuk tahun 2017\n",
    "orders_2017 = q2_df[q2_df['year'] == 2017]\n",
    "\n",
    "# Mengelompokkan berdasarkan bulan dan kota, lalu menghitung jumlah order\n",
    "grouped_2017 = orders_2017.groupby(['month', 'customer_city']).size().reset_index(name='order_count')\n",
    "\n",
    "# Mencari dua kota dengan order terbanyak di setiap bulan\n",
    "top_cities_per_month_2017 = (\n",
    "    grouped_2017.sort_values('order_count', ascending=False)\n",
    "    .groupby('month')\n",
    "    .head(2)\n",
    ")\n",
    "\n",
    "# Mengurutkan bulan agar tampil dari Januari ke Desember\n",
    "month_order = ['January', 'February', 'March', 'April', 'May', 'June', \n",
    "               'July', 'August', 'September', 'October', 'November', 'December']\n",
    "top_cities_per_month_2017['month'] = pd.Categorical(top_cities_per_month_2017['month'], categories=month_order, ordered=True)\n",
    "\n",
    "# Mengurutkan berdasarkan bulan dan order_count (descending) agar bar yang lebih besar ada di kiri\n",
    "top_cities_per_month_2017 = top_cities_per_month_2017.sort_values(by=['month', 'order_count'], ascending=[True, False])\n",
    "\n",
    "# Mencari produk yang paling banyak dibeli di kota yang sama pada bulan yang sama\n",
    "top_products_per_city_month = (\n",
    "    orders_2017.groupby(['month', 'customer_city', 'product_id', 'product_category_name_english'])  # Menambahkan kategori produk\n",
    "    .size()\n",
    "    .reset_index(name='product_count')\n",
    ")\n",
    "\n",
    "# Mendapatkan produk terlaris untuk kota teratas\n",
    "top_products_per_city_month = (\n",
    "    top_products_per_city_month.sort_values('product_count', ascending=False)\n",
    "    .groupby(['month', 'customer_city'])\n",
    "    .head(1)  # Mengambil produk terlaris\n",
    ")\n",
    "\n",
    "# Menggabungkan data kota dengan jumlah order terbanyak dan produk terlaris\n",
    "result = top_cities_per_month_2017.merge(top_products_per_city_month, on=['month', 'customer_city'])\n",
    "\n",
    "# Visualisasi\n",
    "plt.figure(figsize=(14, 8))\n",
    "sns.barplot(data=result, x='month', y='order_count', hue='customer_city', dodge=True)\n",
    "plt.title('Top 2 Kota dengan Jumlah Order dan Produk Paling Banyak Dibeli di Tahun 2017')\n",
    "plt.xlabel('Bulan')\n",
    "plt.ylabel('Jumlah Order')\n",
    "plt.xticks(rotation=45)\n",
    "\n",
    "# Menambahkan label jumlah order dan kategori produk di atas setiap bar dengan ukuran font yang lebih kecil\n",
    "for p in plt.gca().patches:\n",
    "    order_count = p.get_height()\n",
    "    if order_count > 0:\n",
    "        # Cari label produk berdasarkan nilai order_count\n",
    "        category_name = result.loc[result['order_count'] == order_count, 'product_category_name_english'].values[0]\n",
    "        month_name = result.loc[result['order_count'] == order_count, 'month'].values[0]\n",
    "        \n",
    "        # Jika bulan Januari, labelnya vertikal, jika bukan, labelnya horizontal\n",
    "        if month_name == 'January':\n",
    "            plt.annotate(f'{int(order_count)}\\n{category_name}', \n",
    "                         (p.get_x() + p.get_width() / 2., p.get_height()), \n",
    "                         ha='center', va='bottom', fontsize=8, rotation=90)  # Label tegak untuk Januari\n",
    "        else:\n",
    "            plt.annotate(f'{int(order_count)}\\n{category_name}', \n",
    "                         (p.get_x() + p.get_width() / 2., p.get_height()), \n",
    "                         ha='center', va='bottom', fontsize=8)  # Label horizontal untuk bulan lain\n",
    "\n",
    "\n",
    "# Mengatur legenda agar lebih rapi\n",
    "plt.legend(title='Kota', bbox_to_anchor=(1.05, 1), loc='upper left')\n",
    "plt.tight_layout()\n",
    "plt.show()\n"
   ]
  },
  {
   "cell_type": "markdown",
   "metadata": {},
   "source": [
    "#### Explanatory Analysis"
   ]
  },
  {
   "cell_type": "markdown",
   "metadata": {},
   "source": [
    "Pada gambar, dapat dilihat bahwa Sao Paulo secara konsisten menjadi kota dengan jumlah order terbanyak sepanjang tahun 2017, dengan puncaknya pada bulan Desember, mencapai 1125 order untuk kategori \"furniture decor\". Meskipun demikian, terdapat variasi dalam produk yang paling banyak dipesan setiap bulannya.\n",
    "\n",
    "Pada bulan Januari, kota dengan jumlah order terbanyak kedua adalah Curitiba dengan 42 order, meskipun hanya sedikit dibandingkan dengan Sao Paulo. Untuk bulan-bulan selanjutnya, posisi kota dengan order terbanyak kedua diduduki oleh Rio de Janeiro, yang mulai muncul sejak bulan Maret. Terlihat bahwa perbedaan jumlah order antara Sao Paulo dan Rio de Janeiro lebih signifikan pada beberapa bulan seperti Agustus dan Desember.\n",
    "\n",
    "Produk-produk favorit di setiap bulan juga beragam. Misalnya:\n",
    "- Pada bulan Februari, \"garden tools\" menjadi kategori produk dengan order terbanyak di Sao Paulo, mencapai 341 order.\n",
    "- Bulan April didominasi oleh kategori \"bed_bath_table\" di Sao Paulo dengan 515 order, sementara di bulan Desember, \"furniture decor\" mencatat angka tertinggi di kota yang sama.\n",
    "- Kota Rio de Janeiro juga menunjukkan tren yang bervariasi, seperti pada bulan Juli dengan kategori \"garden tools\" yang mencapai 270 order dan Desember dengan 469 order di kategori yang sama."
   ]
  },
  {
   "cell_type": "markdown",
   "metadata": {
    "id": "_WeHlCeX8DC2"
   },
   "source": [
    "## Conclusion"
   ]
  },
  {
   "cell_type": "markdown",
   "metadata": {
    "id": "ZTcyR48Y8DC2"
   },
   "source": [
    "- Conclution pertanyaan 1: Bagaimana tren harga dan tingkat penjualan dari kategori kategori produk Health & Beauty dalam rentang tahun Oktober 2016 – Oktober 2018?\n",
    "\n",
    "\n",
    "\n",
    "Analisis tren harga dan penjualan produk Health & Beauty dari Oktober 2016 hingga Oktober 2018 menunjukkan peningkatan penjualan secara keseluruhan, meskipun ada fluktuasi di beberapa bulan. Penjualan tertinggi terjadi pada September 2018, disertai lonjakan harga yang juga signifikan.\n",
    "\n",
    "Fluktuasi harga terbesar terjadi pada awal 2017, dengan harga mencapai puncaknya pada Januari sebelum akhirnya stabil di pertengahan tahun. Hubungan antara harga dan penjualan sering kali berbanding terbalik: saat harga naik, penjualan menurun, seperti pada Januari 2017, dan sebaliknya. Namun, pada September 2018, keduanya meningkat bersamaan, mengindikasikan faktor lain, seperti promosi atau tren pasar, yang turut memengaruhi penjualan.\n",
    "\n",
    "\n",
    "- Conclution pertanyaan 2 : Berdasarkan informasi penjualan di sepanjang tahun 2017, kota apa yang menduduki record penjualan terbanyak dan kategori produk apa yang paling banyak terjual pada waktu tersebut?\n",
    "\n",
    "Sao Paulo secara konsisten menjadi kota dengan jumlah order terbanyak sepanjang tahun 2017, dengan puncaknya pada bulan Desember. Sementara itu, kota kedua dengan jumlah order terbanyak bervariasi, yaitu Curitiba pada bulan Januari dan Rio de Janeiro pada bulan-bulan berikutnya.\n",
    "\n",
    "Selain itu, produk favorit yang paling banyak dipesan berubah setiap bulannya, mencerminkan tren musiman dan kebutuhan yang beragam di setiap kota. Produk seperti \"garden tools,\" \"bed_bath_table,\" dan \"furniture decor\" mendominasi berbagai bulan, menunjukkan bahwa preferensi produk sangat dinamis. Hal ini menunjukkan adanya variasi yang signifikan dalam pola konsumsi berdasarkan waktu dan kategori produk di kedua kota utama tersebut."
   ]
  },
  {
   "cell_type": "code",
   "execution_count": 57,
   "metadata": {},
   "outputs": [
    {
     "name": "stdout",
     "output_type": "stream",
     "text": [
      "altair==5.4.1\n",
      "anyio==4.4.0\n",
      "argon2-cffi==23.1.0\n",
      "argon2-cffi-bindings==21.2.0\n",
      "arrow==1.3.0\n",
      "asttokens==2.4.1\n",
      "async-lru==2.0.4\n",
      "attrs==24.2.0\n",
      "babel==2.16.0\n",
      "beautifulsoup4==4.12.3\n",
      "bleach==6.1.0\n",
      "blinker==1.8.2\n",
      "cachetools==5.5.0\n",
      "certifi==2024.8.30\n",
      "cffi==1.17.1\n",
      "charset-normalizer==3.3.2\n",
      "click==8.1.7\n",
      "colorama==0.4.6\n",
      "comm==0.2.2\n",
      "contourpy==1.3.0\n",
      "cycler==0.12.1\n",
      "debugpy==1.8.5\n",
      "decorator==5.1.1\n",
      "defusedxml==0.7.1\n",
      "distlib==0.3.8\n",
      "executing==2.1.0\n",
      "fastjsonschema==2.20.0\n",
      "filelock==3.16.1\n",
      "fonttools==4.54.1\n",
      "fqdn==1.5.1\n",
      "gitdb==4.0.11\n",
      "GitPython==3.1.43\n",
      "h11==0.14.0\n",
      "httpcore==1.0.5\n",
      "httpx==0.27.2\n",
      "idna==3.10\n",
      "ipykernel==6.29.5\n",
      "ipython==8.27.0\n",
      "ipythonblocks==1.9.1\n",
      "isoduration==20.11.0\n",
      "jedi==0.19.1\n",
      "Jinja2==3.1.4\n",
      "json5==0.9.25\n",
      "jsonpointer==3.0.0\n",
      "jsonschema==4.23.0\n",
      "jsonschema-specifications==2023.12.1\n",
      "jupyter-events==0.10.0\n",
      "jupyter-lsp==2.2.5\n",
      "jupyter_client==8.6.3\n",
      "jupyter_core==5.7.2\n",
      "jupyter_server==2.14.2\n",
      "jupyter_server_terminals==0.5.3\n",
      "jupyterlab==4.2.5\n",
      "jupyterlab_pygments==0.3.0\n",
      "jupyterlab_server==2.27.3\n",
      "kiwisolver==1.4.7\n",
      "markdown-it-py==3.0.0\n",
      "MarkupSafe==2.1.5\n",
      "matplotlib==3.9.2\n",
      "matplotlib-inline==0.1.7\n",
      "mdurl==0.1.2\n",
      "mistune==3.0.2\n",
      "narwhals==1.9.0\n",
      "nbclient==0.10.0\n",
      "nbconvert==7.16.4\n",
      "nbformat==5.10.4\n",
      "nest-asyncio==1.6.0\n",
      "networkx==3.3\n",
      "notebook==7.2.2\n",
      "notebook_shim==0.2.4\n",
      "numpy==2.1.1\n",
      "overrides==7.7.0\n",
      "packaging==24.1\n",
      "pandas==2.2.3\n",
      "pandocfilters==1.5.1\n",
      "parso==0.8.4\n",
      "pillow==10.4.0\n",
      "pipenv==2024.1.0\n",
      "platformdirs==4.3.6\n",
      "prometheus_client==0.20.0\n",
      "prompt_toolkit==3.0.47\n",
      "protobuf==5.28.2\n",
      "psutil==6.0.0\n",
      "pure_eval==0.2.3\n",
      "pyarrow==17.0.0\n",
      "pycparser==2.22\n",
      "pydeck==0.9.1\n",
      "Pygments==2.18.0\n",
      "pyparsing==3.1.4\n",
      "python-dateutil==2.9.0.post0\n",
      "python-json-logger==2.0.7\n",
      "pytz==2024.2\n",
      "pywin32==306\n",
      "pywinpty==2.0.13\n",
      "PyYAML==6.0.2\n",
      "pyzmq==26.2.0\n",
      "referencing==0.35.1\n",
      "requests==2.32.3\n",
      "rfc3339-validator==0.1.4\n",
      "rfc3986-validator==0.1.1\n",
      "rich==13.9.1\n",
      "rpds-py==0.20.0\n",
      "seaborn==0.13.2\n",
      "Send2Trash==1.8.3\n",
      "setuptools==75.1.0\n",
      "six==1.16.0\n",
      "smmap==5.0.1\n",
      "sniffio==1.3.1\n",
      "sortedcontainers==2.4.0\n",
      "soupsieve==2.6\n",
      "stack-data==0.6.3\n",
      "streamlit==1.39.0\n",
      "tenacity==9.0.0\n",
      "terminado==0.18.1\n",
      "tinycss2==1.3.0\n",
      "toml==0.10.2\n",
      "tornado==6.4.1\n",
      "traitlets==5.14.3\n",
      "types-python-dateutil==2.9.0.20240906\n",
      "typing_extensions==4.12.2\n",
      "tzdata==2024.2\n",
      "uri-template==1.3.0\n",
      "urllib3==2.2.3\n",
      "virtualenv==20.26.6\n",
      "watchdog==5.0.3\n",
      "wcwidth==0.2.13\n",
      "webcolors==24.8.0\n",
      "webencodings==0.5.1\n",
      "websocket-client==1.8.0\n",
      "Note: you may need to restart the kernel to use updated packages.\n"
     ]
    }
   ],
   "source": [
    "pip freeze requirements.txt"
   ]
  }
 ],
 "metadata": {
  "colab": {
   "provenance": []
  },
  "kernelspec": {
   "display_name": "Python 3 (ipykernel)",
   "language": "python",
   "name": "python3"
  },
  "language_info": {
   "codemirror_mode": {
    "name": "ipython",
    "version": 3
   },
   "file_extension": ".py",
   "mimetype": "text/x-python",
   "name": "python",
   "nbconvert_exporter": "python",
   "pygments_lexer": "ipython3",
   "version": "3.12.5"
  },
  "vscode": {
   "interpreter": {
    "hash": "972b3bf27e332e87b5379f2791f6ef9dfc79c71018c370b0d7423235e20fe4d7"
   }
  }
 },
 "nbformat": 4,
 "nbformat_minor": 4
}
